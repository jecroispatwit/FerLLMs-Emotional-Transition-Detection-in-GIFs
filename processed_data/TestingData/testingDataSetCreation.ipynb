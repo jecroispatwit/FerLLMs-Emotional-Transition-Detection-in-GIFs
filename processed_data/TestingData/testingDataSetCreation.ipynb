{
 "cells": [
  {
   "cell_type": "code",
   "execution_count": 1,
   "metadata": {},
   "outputs": [],
   "source": [
    "import os\n",
    "import csv\n",
    "import pandas as pd"
   ]
  },
  {
   "cell_type": "code",
   "execution_count": 2,
   "metadata": {},
   "outputs": [],
   "source": [
    "GIF_SAVE_PATH = \"/home/jecroisp/Thesis/processed_data/TestingData/downLoadedGifs\"\n",
    "BLIP_CSV_PATH = \"/home/jecroisp/Thesis/processed_data/TestingData/test_gif_metadata.csv\"\n"
   ]
  },
  {
   "cell_type": "markdown",
   "metadata": {},
   "source": [
    "## Downloading Gifs From Giphy"
   ]
  },
  {
   "cell_type": "code",
   "execution_count": 15,
   "metadata": {},
   "outputs": [
    {
     "name": "stdout",
     "output_type": "stream",
     "text": [
      "Downloaded: /home/jecroisp/Thesis/processed_data/TestingData/downLoadedGifs/FEXGAddVac7K4VkY9C.gif\n",
      "Downloaded: /home/jecroisp/Thesis/processed_data/TestingData/downLoadedGifs/UQvU6egcKE1eOd66Ss.gif\n",
      "Downloaded: /home/jecroisp/Thesis/processed_data/TestingData/downLoadedGifs/UfVBxLG7IghCE.gif\n",
      "Downloaded: /home/jecroisp/Thesis/processed_data/TestingData/downLoadedGifs/l0ErRtQDgjMtQcjsI.gif\n",
      "Downloaded: /home/jecroisp/Thesis/processed_data/TestingData/downLoadedGifs/d2YWTOsVtuHgOHhC.gif\n",
      "Downloaded: /home/jecroisp/Thesis/processed_data/TestingData/downLoadedGifs/njv4XzvImIOZxL3ddq.gif\n",
      "Downloaded: /home/jecroisp/Thesis/processed_data/TestingData/downLoadedGifs/5caVuZgHsdr8I.gif\n",
      "Downloaded: /home/jecroisp/Thesis/processed_data/TestingData/downLoadedGifs/yNZGTpQj4NN5K.gif\n",
      "Downloaded: /home/jecroisp/Thesis/processed_data/TestingData/downLoadedGifs/9HWi6sWPRJfnG.gif\n",
      "Downloaded: /home/jecroisp/Thesis/processed_data/TestingData/downLoadedGifs/vaRCdgM0fLNrW.gif\n",
      "Downloaded: /home/jecroisp/Thesis/processed_data/TestingData/downLoadedGifs/VIrjgWz2k2n84.gif\n",
      "Downloaded: /home/jecroisp/Thesis/processed_data/TestingData/downLoadedGifs/6Vtt6w8syk3Je.gif\n",
      "Downloaded: /home/jecroisp/Thesis/processed_data/TestingData/downLoadedGifs/4Lohl3ia1dghW.gif\n",
      "Downloaded: /home/jecroisp/Thesis/processed_data/TestingData/downLoadedGifs/J2vqNbXJkGrx6.gif\n",
      "Downloaded: /home/jecroisp/Thesis/processed_data/TestingData/downLoadedGifs/XyAGm96eUIPsc.gif\n",
      "Downloaded: /home/jecroisp/Thesis/processed_data/TestingData/downLoadedGifs/CHVvWfV0WnJ6M.gif\n",
      "Downloaded: /home/jecroisp/Thesis/processed_data/TestingData/downLoadedGifs/xKLkGPmUUIGOs.gif\n",
      "Downloaded: /home/jecroisp/Thesis/processed_data/TestingData/downLoadedGifs/LG39g1Z7Q0Kpq.gif\n",
      "Downloaded: /home/jecroisp/Thesis/processed_data/TestingData/downLoadedGifs/chY9nwUClEgCY.gif\n",
      "Downloaded: /home/jecroisp/Thesis/processed_data/TestingData/downLoadedGifs/F47qASXDMJcOY.gif\n",
      "Downloaded: /home/jecroisp/Thesis/processed_data/TestingData/downLoadedGifs/1818YM5U0CmaI.gif\n",
      "Downloaded: /home/jecroisp/Thesis/processed_data/TestingData/downLoadedGifs/aCmX8hWpd8ZaM.gif\n",
      "Downloaded: /home/jecroisp/Thesis/processed_data/TestingData/downLoadedGifs/F8ByRhbCzm4F2.gif\n",
      "Downloaded: /home/jecroisp/Thesis/processed_data/TestingData/downLoadedGifs/6K5SCeSjNXJgk.gif\n",
      "Downloaded: /home/jecroisp/Thesis/processed_data/TestingData/downLoadedGifs/gzMbBCGWbeRI4.gif\n",
      "Downloaded: /home/jecroisp/Thesis/processed_data/TestingData/downLoadedGifs/eWeillLpJU4w0.gif\n",
      "Downloaded: /home/jecroisp/Thesis/processed_data/TestingData/downLoadedGifs/UDjF1zMreMld6.gif\n",
      "Downloaded: /home/jecroisp/Thesis/processed_data/TestingData/downLoadedGifs/2dI7FZreQAp44.gif\n",
      "Downloaded: /home/jecroisp/Thesis/processed_data/TestingData/downLoadedGifs/OZfrYsxMri1vq.gif\n",
      "Downloaded: /home/jecroisp/Thesis/processed_data/TestingData/downLoadedGifs/1H7w4QSpiZUPK.gif\n",
      "Downloaded: /home/jecroisp/Thesis/processed_data/TestingData/downLoadedGifs/On8YxkEuPlmZq.gif\n",
      "Downloaded: /home/jecroisp/Thesis/processed_data/TestingData/downLoadedGifs/7PqfHHDd8fz7q.gif\n",
      "Downloaded: /home/jecroisp/Thesis/processed_data/TestingData/downLoadedGifs/JgcrlfTHRGxQ4.gif\n",
      "Downloaded: /home/jecroisp/Thesis/processed_data/TestingData/downLoadedGifs/44lnMVc88NugM.gif\n",
      "Downloaded: /home/jecroisp/Thesis/processed_data/TestingData/downLoadedGifs/3lsNKXm6IUS3K.gif\n",
      "Downloaded: /home/jecroisp/Thesis/processed_data/TestingData/downLoadedGifs/CqGm2DE1eX5iE.gif\n",
      "Downloaded: /home/jecroisp/Thesis/processed_data/TestingData/downLoadedGifs/2bZzyaVs92P84.gif\n",
      "Downloaded: /home/jecroisp/Thesis/processed_data/TestingData/downLoadedGifs/2MFtGfZqiRveE.gif\n",
      "Downloaded: /home/jecroisp/Thesis/processed_data/TestingData/downLoadedGifs/En3KLIkR9M5ag.gif\n",
      "Downloaded: /home/jecroisp/Thesis/processed_data/TestingData/downLoadedGifs/KhV4QFqOslHHi.gif\n",
      "Downloaded: /home/jecroisp/Thesis/processed_data/TestingData/downLoadedGifs/11IzYeHqfDa2A0.gif\n",
      "Downloaded: /home/jecroisp/Thesis/processed_data/TestingData/downLoadedGifs/LiyPaa4V92Z2M.gif\n",
      "Downloaded: /home/jecroisp/Thesis/processed_data/TestingData/downLoadedGifs/zYF1qV1AbOrpC.gif\n",
      "Downloaded: /home/jecroisp/Thesis/processed_data/TestingData/downLoadedGifs/NPjK1dWsaAwHm.gif\n",
      "Downloaded: /home/jecroisp/Thesis/processed_data/TestingData/downLoadedGifs/gw3C71R3QMD13yGQ.gif\n",
      "Downloaded: /home/jecroisp/Thesis/processed_data/TestingData/downLoadedGifs/2aLzdNOyJdbI4.gif\n",
      "Downloaded: /home/jecroisp/Thesis/processed_data/TestingData/downLoadedGifs/QAdyZw4NJTT0I.gif\n",
      "Downloaded: /home/jecroisp/Thesis/processed_data/TestingData/downLoadedGifs/8K5HHEACJLJjq.gif\n",
      "Downloaded: /home/jecroisp/Thesis/processed_data/TestingData/downLoadedGifs/wZXb2uGZrEVfG.gif\n",
      "Downloaded: /home/jecroisp/Thesis/processed_data/TestingData/downLoadedGifs/qyhPkPmfwCesg.gif\n",
      "Downloaded: /home/jecroisp/Thesis/processed_data/TestingData/downLoadedGifs/e1isoYi9UWBdS.gif\n",
      "Downloaded: /home/jecroisp/Thesis/processed_data/TestingData/downLoadedGifs/13m24iFmhomZi0.gif\n",
      "Downloaded: /home/jecroisp/Thesis/processed_data/TestingData/downLoadedGifs/o1ncFNtD5eDUk.gif\n",
      "Downloaded: /home/jecroisp/Thesis/processed_data/TestingData/downLoadedGifs/l4FBbYsFifkdlXUZ2.gif\n",
      "Downloaded: /home/jecroisp/Thesis/processed_data/TestingData/downLoadedGifs/mBbzrXwIlho7C.gif\n",
      "Downloaded: /home/jecroisp/Thesis/processed_data/TestingData/downLoadedGifs/3o7qDV67vk5vYdoeVG.gif\n",
      "Downloaded: /home/jecroisp/Thesis/processed_data/TestingData/downLoadedGifs/D2JZZWBhB0BB6.gif\n",
      "Downloaded: /home/jecroisp/Thesis/processed_data/TestingData/downLoadedGifs/3o7aD7TFLsZjgzXrZS.gif\n",
      "Downloaded: /home/jecroisp/Thesis/processed_data/TestingData/downLoadedGifs/13XnY8y7DeiXN6.gif\n",
      "Downloaded: /home/jecroisp/Thesis/processed_data/TestingData/downLoadedGifs/144waw4kQiQVgY.gif\n",
      "Downloaded: /home/jecroisp/Thesis/processed_data/TestingData/downLoadedGifs/CPDbE8X0nEe3u.gif\n",
      "Downloaded: /home/jecroisp/Thesis/processed_data/TestingData/downLoadedGifs/8087BPwFoZY0o.gif\n",
      "Downloaded: /home/jecroisp/Thesis/processed_data/TestingData/downLoadedGifs/arhZNsNgJfeda.gif\n",
      "Downloaded: /home/jecroisp/Thesis/processed_data/TestingData/downLoadedGifs/a7m0WwHr7bzNu.gif\n",
      "Downloaded: /home/jecroisp/Thesis/processed_data/TestingData/downLoadedGifs/FRKr3vM1BiCyc.gif\n",
      "Downloaded: /home/jecroisp/Thesis/processed_data/TestingData/downLoadedGifs/LFqxF9yF8sRry.gif\n",
      "Downloaded: /home/jecroisp/Thesis/processed_data/TestingData/downLoadedGifs/26Ff3DaJ1zWk97lV6.gif\n",
      "Downloaded: /home/jecroisp/Thesis/processed_data/TestingData/downLoadedGifs/3ornjJSq2s9xznhO80.gif\n",
      "Downloaded: /home/jecroisp/Thesis/processed_data/TestingData/downLoadedGifs/d2ZjBlsQa5dWO45a.gif\n",
      "Downloaded: /home/jecroisp/Thesis/processed_data/TestingData/downLoadedGifs/tjwzClJM6fyEw.gif\n",
      "Downloaded: /home/jecroisp/Thesis/processed_data/TestingData/downLoadedGifs/Qw4X3Fvtr1muKrLhusU.gif\n",
      "Downloaded: /home/jecroisp/Thesis/processed_data/TestingData/downLoadedGifs/M4iOAkEAPwAnK.gif\n",
      "Downloaded: /home/jecroisp/Thesis/processed_data/TestingData/downLoadedGifs/5iLCVQpBvV2py.gif\n",
      "Downloaded: /home/jecroisp/Thesis/processed_data/TestingData/downLoadedGifs/l0HlNEVlOBTV8X4ha.gif\n",
      "Downloaded: /home/jecroisp/Thesis/processed_data/TestingData/downLoadedGifs/8N5tQZ2X4byNi.gif\n",
      "Downloaded: /home/jecroisp/Thesis/processed_data/TestingData/downLoadedGifs/sW6P26sp3HFvy.gif\n",
      "Downloaded: /home/jecroisp/Thesis/processed_data/TestingData/downLoadedGifs/PC3PhzppXcK5y.gif\n",
      "Downloaded: /home/jecroisp/Thesis/processed_data/TestingData/downLoadedGifs/oe1kFNiUhLcSA.gif\n",
      "Downloaded: /home/jecroisp/Thesis/processed_data/TestingData/downLoadedGifs/oBTCwXvs0SUNO.gif\n",
      "Downloaded: /home/jecroisp/Thesis/processed_data/TestingData/downLoadedGifs/l6mBchxYZc7Sw.gif\n",
      "Downloaded: /home/jecroisp/Thesis/processed_data/TestingData/downLoadedGifs/rwNpHtaMGnStW.gif\n",
      "Downloaded: /home/jecroisp/Thesis/processed_data/TestingData/downLoadedGifs/11OW4gEJBs2utO.gif\n",
      "Downloaded: /home/jecroisp/Thesis/processed_data/TestingData/downLoadedGifs/cOWNPwDDh1tYs.gif\n",
      "Downloaded: /home/jecroisp/Thesis/processed_data/TestingData/downLoadedGifs/26tP5RWCgRJq5cjSM.gif\n",
      "Downloaded: /home/jecroisp/Thesis/processed_data/TestingData/downLoadedGifs/3o6ZsTRpiosAcmSias.gif\n",
      "Downloaded: /home/jecroisp/Thesis/processed_data/TestingData/downLoadedGifs/c4t11obaChpu0.gif\n",
      "Downloaded: /home/jecroisp/Thesis/processed_data/TestingData/downLoadedGifs/L6copNY61JjX2.gif\n",
      "Downloaded: /home/jecroisp/Thesis/processed_data/TestingData/downLoadedGifs/pi1HV6hj5Cffy.gif\n",
      "Downloaded: /home/jecroisp/Thesis/processed_data/TestingData/downLoadedGifs/xT3i1j5uJJIDvF61nG.gif\n",
      "Downloaded: /home/jecroisp/Thesis/processed_data/TestingData/downLoadedGifs/AhBHCLA7kRFSg.gif\n",
      "Downloaded: /home/jecroisp/Thesis/processed_data/TestingData/downLoadedGifs/1MTLxzwvOnvmE.gif\n",
      "Downloaded: /home/jecroisp/Thesis/processed_data/TestingData/downLoadedGifs/zudini5kRNz0dTbV7M.gif\n",
      "Downloaded: /home/jecroisp/Thesis/processed_data/TestingData/downLoadedGifs/ftGTY1fO9ARUI.gif\n",
      "Downloaded: /home/jecroisp/Thesis/processed_data/TestingData/downLoadedGifs/10YOiK720sCc9i.gif\n",
      "Downloaded: /home/jecroisp/Thesis/processed_data/TestingData/downLoadedGifs/12jdalMQkt7iM.gif\n",
      "Downloaded: /home/jecroisp/Thesis/processed_data/TestingData/downLoadedGifs/11nqZwfoLGKPPa.gif\n",
      "Downloaded: /home/jecroisp/Thesis/processed_data/TestingData/downLoadedGifs/Aod96lGa2AbkY.gif\n",
      "Downloaded: /home/jecroisp/Thesis/processed_data/TestingData/downLoadedGifs/OdA2P5bhkrKIo.gif\n",
      "Downloaded: /home/jecroisp/Thesis/processed_data/TestingData/downLoadedGifs/oOK9AZGnf9b0c.gif\n",
      "Downloaded: /home/jecroisp/Thesis/processed_data/TestingData/downLoadedGifs/Pc16mmoHoXBh6.gif\n",
      "Downloaded: /home/jecroisp/Thesis/processed_data/TestingData/downLoadedGifs/BLKswIymJeLFS.gif\n",
      "Downloaded: /home/jecroisp/Thesis/processed_data/TestingData/downLoadedGifs/LY1DH1AMbG0tq.gif\n",
      "Downloaded: /home/jecroisp/Thesis/processed_data/TestingData/downLoadedGifs/XbPFv2ihC3rRm.gif\n",
      "Downloaded: /home/jecroisp/Thesis/processed_data/TestingData/downLoadedGifs/8l1UFvNSS5SwM.gif\n",
      "Downloaded: /home/jecroisp/Thesis/processed_data/TestingData/downLoadedGifs/nuuS1IlKqd2dq.gif\n",
      "Downloaded: /home/jecroisp/Thesis/processed_data/TestingData/downLoadedGifs/tluiyIK3KcxIQ.gif\n",
      "Downloaded: /home/jecroisp/Thesis/processed_data/TestingData/downLoadedGifs/OohRFB8z7kVWw.gif\n",
      "Downloaded: /home/jecroisp/Thesis/processed_data/TestingData/downLoadedGifs/2XskdWPH2WxnxfMnZAI.gif\n",
      "Downloaded: /home/jecroisp/Thesis/processed_data/TestingData/downLoadedGifs/S5Pgd5fykea99hAm8r.gif\n",
      "Downloaded: /home/jecroisp/Thesis/processed_data/TestingData/downLoadedGifs/PJTQJPEoWvuKY.gif\n",
      "Downloaded: /home/jecroisp/Thesis/processed_data/TestingData/downLoadedGifs/ysoK6qc1xpNxm.gif\n",
      "Downloaded: /home/jecroisp/Thesis/processed_data/TestingData/downLoadedGifs/asLOZFUdcYsfK.gif\n",
      "Downloaded: /home/jecroisp/Thesis/processed_data/TestingData/downLoadedGifs/1310XHyc6yC6ju.gif\n",
      "Downloaded: /home/jecroisp/Thesis/processed_data/TestingData/downLoadedGifs/k90nbKSCPUfra.gif\n",
      "Downloaded: /home/jecroisp/Thesis/processed_data/TestingData/downLoadedGifs/jPJz9s6VAqLLi.gif\n",
      "Downloaded: /home/jecroisp/Thesis/processed_data/TestingData/downLoadedGifs/qUrOyBLlXGwXS.gif\n",
      "Downloaded: /home/jecroisp/Thesis/processed_data/TestingData/downLoadedGifs/cuRKusHF9CfLK9ERCb.gif\n",
      "Downloaded: /home/jecroisp/Thesis/processed_data/TestingData/downLoadedGifs/olzqYUAaUowBa.gif\n",
      "Downloaded: /home/jecroisp/Thesis/processed_data/TestingData/downLoadedGifs/FcLy8GpsFyUog.gif\n",
      "Downloaded: /home/jecroisp/Thesis/processed_data/TestingData/downLoadedGifs/j5QcmXoFWl4Q0.gif\n",
      "Downloaded: /home/jecroisp/Thesis/processed_data/TestingData/downLoadedGifs/xTiTnB3a61IMwShHmE.gif\n",
      "Downloaded: /home/jecroisp/Thesis/processed_data/TestingData/downLoadedGifs/oXcOeuhsXlOSrSHMPw.gif\n",
      "Downloaded: /home/jecroisp/Thesis/processed_data/TestingData/downLoadedGifs/GY5xMevFOGi1a.gif\n",
      "Downloaded: /home/jecroisp/Thesis/processed_data/TestingData/downLoadedGifs/d8A7MUMOydhhC.gif\n",
      "Downloaded: /home/jecroisp/Thesis/processed_data/TestingData/downLoadedGifs/FvgJBCT7mKTKM.gif\n",
      "Downloaded: /home/jecroisp/Thesis/processed_data/TestingData/downLoadedGifs/HFyDr6tKVe90Y.gif\n",
      "Downloaded: /home/jecroisp/Thesis/processed_data/TestingData/downLoadedGifs/9Cj0oZUR3VslO.gif\n",
      "Downloaded: /home/jecroisp/Thesis/processed_data/TestingData/downLoadedGifs/bl2FKRXQaFgf6.gif\n",
      "Downloaded: /home/jecroisp/Thesis/processed_data/TestingData/downLoadedGifs/jGtZbC0thruow.gif\n",
      "Downloaded: /home/jecroisp/Thesis/processed_data/TestingData/downLoadedGifs/PpCyq0bsGhERO.gif\n",
      "Downloaded: /home/jecroisp/Thesis/processed_data/TestingData/downLoadedGifs/Hi2zvNbyWsFaM.gif\n",
      "Downloaded: /home/jecroisp/Thesis/processed_data/TestingData/downLoadedGifs/4Ra6jnDDOVdNS.gif\n",
      "Downloaded: /home/jecroisp/Thesis/processed_data/TestingData/downLoadedGifs/x755LoyTt9dUk.gif\n",
      "Downloaded: /home/jecroisp/Thesis/processed_data/TestingData/downLoadedGifs/13S1lWb5qheNBC.gif\n",
      "Downloaded: /home/jecroisp/Thesis/processed_data/TestingData/downLoadedGifs/l0Ex3ijvSsICmvOLK.gif\n",
      "Downloaded: /home/jecroisp/Thesis/processed_data/TestingData/downLoadedGifs/nLD20OgpndiEw.gif\n",
      "Downloaded: /home/jecroisp/Thesis/processed_data/TestingData/downLoadedGifs/3uVDKeNFhgksU.gif\n",
      "Downloaded: /home/jecroisp/Thesis/processed_data/TestingData/downLoadedGifs/f8oqjTlp0PdMA.gif\n",
      "Downloaded: /home/jecroisp/Thesis/processed_data/TestingData/downLoadedGifs/rbmQ6CRJERE3K.gif\n",
      "Downloaded: /home/jecroisp/Thesis/processed_data/TestingData/downLoadedGifs/12KlG0o01FZNQs.gif\n",
      "Downloaded: /home/jecroisp/Thesis/processed_data/TestingData/downLoadedGifs/3oKHW5HcygwWE8XgHK.gif\n",
      "Downloaded: /home/jecroisp/Thesis/processed_data/TestingData/downLoadedGifs/WY3dCO9TlqwaQ.gif\n",
      "Downloaded: /home/jecroisp/Thesis/processed_data/TestingData/downLoadedGifs/u7uiWWbRFC2TC.gif\n",
      "Downloaded: /home/jecroisp/Thesis/processed_data/TestingData/downLoadedGifs/HY2d8hQZMbMju.gif\n",
      "Downloaded: /home/jecroisp/Thesis/processed_data/TestingData/downLoadedGifs/smGtEdVjeQysg.gif\n",
      "Downloaded: /home/jecroisp/Thesis/processed_data/TestingData/downLoadedGifs/RYfRxW6qGOQN2.gif\n",
      "Downloaded: /home/jecroisp/Thesis/processed_data/TestingData/downLoadedGifs/KjWWOh4lbhrva.gif\n",
      "Downloaded: /home/jecroisp/Thesis/processed_data/TestingData/downLoadedGifs/SNf8OSoSlDIm0yrYxy.gif\n",
      "Downloaded: /home/jecroisp/Thesis/processed_data/TestingData/downLoadedGifs/O11Sc36BqMyVG.gif\n",
      "Downloaded: /home/jecroisp/Thesis/processed_data/TestingData/downLoadedGifs/26tPtM8Arb1nyc1i0.gif\n",
      "Downloaded: /home/jecroisp/Thesis/processed_data/TestingData/downLoadedGifs/XADqhTKtqg06c.gif\n",
      "Downloaded: /home/jecroisp/Thesis/processed_data/TestingData/downLoadedGifs/26tPtM8Arb1nyc1i0.gif\n",
      "Downloaded: /home/jecroisp/Thesis/processed_data/TestingData/downLoadedGifs/aBcsaAYpBEtLW.gif\n",
      "Downloaded: /home/jecroisp/Thesis/processed_data/TestingData/downLoadedGifs/2lZOHXYYWQTtu.gif\n",
      "Downloaded: /home/jecroisp/Thesis/processed_data/TestingData/downLoadedGifs/10KL1QSQNsyEZa.gif\n",
      "Downloaded: /home/jecroisp/Thesis/processed_data/TestingData/downLoadedGifs/MNCeuUJfRykxi.gif\n",
      "Downloaded: /home/jecroisp/Thesis/processed_data/TestingData/downLoadedGifs/A2W1Qq8pGpm3S.gif\n",
      "Downloaded: /home/jecroisp/Thesis/processed_data/TestingData/downLoadedGifs/G619lXOyFZb5S.gif\n",
      "Downloaded: /home/jecroisp/Thesis/processed_data/TestingData/downLoadedGifs/kVRBvsiOyBM8o.gif\n",
      "Downloaded: /home/jecroisp/Thesis/processed_data/TestingData/downLoadedGifs/CvGa6hlslCiXC3wf9r.gif\n",
      "Downloaded: /home/jecroisp/Thesis/processed_data/TestingData/downLoadedGifs/qDhXlK4FnpSDK.gif\n",
      "Downloaded: /home/jecroisp/Thesis/processed_data/TestingData/downLoadedGifs/kB2uyoigIXPMI.gif\n",
      "Downloaded: /home/jecroisp/Thesis/processed_data/TestingData/downLoadedGifs/XJF0h4EHscwHm.gif\n",
      "Downloaded: /home/jecroisp/Thesis/processed_data/TestingData/downLoadedGifs/WrKkFqdpoOUBq.gif\n",
      "Downloaded: /home/jecroisp/Thesis/processed_data/TestingData/downLoadedGifs/NN9YQXuUlhh84.gif\n",
      "Downloaded: /home/jecroisp/Thesis/processed_data/TestingData/downLoadedGifs/Tbpc95JLaz4LC.gif\n",
      "Downloaded: /home/jecroisp/Thesis/processed_data/TestingData/downLoadedGifs/1zd2LUEk9DrvW.gif\n",
      "Downloaded: /home/jecroisp/Thesis/processed_data/TestingData/downLoadedGifs/DKiI2927B1xFC.gif\n",
      "Downloaded: /home/jecroisp/Thesis/processed_data/TestingData/downLoadedGifs/8hvb1Ok0hJ2OQ.gif\n",
      "Downloaded: /home/jecroisp/Thesis/processed_data/TestingData/downLoadedGifs/D6zTH34ZKARTW.gif\n",
      "Downloaded: /home/jecroisp/Thesis/processed_data/TestingData/downLoadedGifs/9RsqYphkRclz2.gif\n",
      "Downloaded: /home/jecroisp/Thesis/processed_data/TestingData/downLoadedGifs/10ExQg4YwG1p8k.gif\n",
      "Downloaded: /home/jecroisp/Thesis/processed_data/TestingData/downLoadedGifs/brjJHcjSkifte.gif\n",
      "Downloaded: /home/jecroisp/Thesis/processed_data/TestingData/downLoadedGifs/j2D2fnqcQquzu.gif\n",
      "Downloaded: /home/jecroisp/Thesis/processed_data/TestingData/downLoadedGifs/hC7hhvggNdbMc.gif\n",
      "Downloaded: /home/jecroisp/Thesis/processed_data/TestingData/downLoadedGifs/ZNzFSd6F427bG.gif\n",
      "Downloaded: /home/jecroisp/Thesis/processed_data/TestingData/downLoadedGifs/WYVHeDgRR2o24.gif\n",
      "Downloaded: /home/jecroisp/Thesis/processed_data/TestingData/downLoadedGifs/G2UovGbsa17Fu.gif\n",
      "Downloaded: /home/jecroisp/Thesis/processed_data/TestingData/downLoadedGifs/4pb05K5LtdRXq.gif\n",
      "Downloaded: /home/jecroisp/Thesis/processed_data/TestingData/downLoadedGifs/fvtmoJ7S6GzRe.gif\n",
      "Downloaded: /home/jecroisp/Thesis/processed_data/TestingData/downLoadedGifs/110G1vtyxUJ4go.gif\n",
      "Downloaded: /home/jecroisp/Thesis/processed_data/TestingData/downLoadedGifs/10nQVrNmo9klUI.gif\n",
      "Downloaded: /home/jecroisp/Thesis/processed_data/TestingData/downLoadedGifs/11Uo8lZPWnkq3e.gif\n",
      "Downloaded: /home/jecroisp/Thesis/processed_data/TestingData/downLoadedGifs/aF1N95HefyANO.gif\n",
      "Downloaded: /home/jecroisp/Thesis/processed_data/TestingData/downLoadedGifs/3oEduMcvxTNPlGuhH2.gif\n",
      "Downloaded: /home/jecroisp/Thesis/processed_data/TestingData/downLoadedGifs/SHppUTMNewZwc.gif\n",
      "Downloaded: /home/jecroisp/Thesis/processed_data/TestingData/downLoadedGifs/rHVbvmCFpuvmM.gif\n",
      "Downloaded: /home/jecroisp/Thesis/processed_data/TestingData/downLoadedGifs/1iW2iFjGi8Mu7yfK.gif\n",
      "Downloaded: /home/jecroisp/Thesis/processed_data/TestingData/downLoadedGifs/Bz4tJnw3uep8s.gif\n",
      "Downloaded: /home/jecroisp/Thesis/processed_data/TestingData/downLoadedGifs/T3VllkrxQ1JXG.gif\n",
      "Downloaded: /home/jecroisp/Thesis/processed_data/TestingData/downLoadedGifs/PpgBsb0Jfntio.gif\n",
      "Downloaded: /home/jecroisp/Thesis/processed_data/TestingData/downLoadedGifs/3o85xAymITsLwO0nIs.gif\n",
      "Downloaded: /home/jecroisp/Thesis/processed_data/TestingData/downLoadedGifs/3LziqePgaY4uI.gif\n",
      "Downloaded: /home/jecroisp/Thesis/processed_data/TestingData/downLoadedGifs/l0O9xMYfZF67bjIcM.gif\n",
      "Downloaded: /home/jecroisp/Thesis/processed_data/TestingData/downLoadedGifs/sgWHkkjwcnKes.gif\n",
      "Downloaded: /home/jecroisp/Thesis/processed_data/TestingData/downLoadedGifs/TKrjl5inUPYoU.gif\n",
      "Downloaded: /home/jecroisp/Thesis/processed_data/TestingData/downLoadedGifs/PtUUcXERWXEYM.gif\n",
      "Downloaded: /home/jecroisp/Thesis/processed_data/TestingData/downLoadedGifs/b9aScKLxdv0Y0.gif\n",
      "Downloaded: /home/jecroisp/Thesis/processed_data/TestingData/downLoadedGifs/XRWPkTfSZg9oY.gif\n",
      "Downloaded: /home/jecroisp/Thesis/processed_data/TestingData/downLoadedGifs/J5mnrjmGTpdL2.gif\n",
      "Downloaded: /home/jecroisp/Thesis/processed_data/TestingData/downLoadedGifs/Xxd0GjmiHOzvi.gif\n",
      "Downloaded: /home/jecroisp/Thesis/processed_data/TestingData/downLoadedGifs/l41lX21w8cZu7Nqpy.gif\n",
      "Downloaded: /home/jecroisp/Thesis/processed_data/TestingData/downLoadedGifs/3rEi755PzPwqY.gif\n",
      "Downloaded: /home/jecroisp/Thesis/processed_data/TestingData/downLoadedGifs/avbafjL1jRiFy.gif\n",
      "Downloaded: /home/jecroisp/Thesis/processed_data/TestingData/downLoadedGifs/zMIFs34GqnquI.gif\n",
      "Downloaded: /home/jecroisp/Thesis/processed_data/TestingData/downLoadedGifs/xTiTnmuDsR7NtN9XWw.gif\n",
      "Downloaded: /home/jecroisp/Thesis/processed_data/TestingData/downLoadedGifs/qqy8lV7Br6mx8C2qWd.gif\n",
      "Downloaded: /home/jecroisp/Thesis/processed_data/TestingData/downLoadedGifs/3ornka9rAaKRA2Rkac.gif\n",
      "Downloaded: /home/jecroisp/Thesis/processed_data/TestingData/downLoadedGifs/pHb82xtBPfqEg.gif\n",
      "Downloaded: /home/jecroisp/Thesis/processed_data/TestingData/downLoadedGifs/10osILvZ4ez7ws.gif\n",
      "Downloaded: /home/jecroisp/Thesis/processed_data/TestingData/downLoadedGifs/g5zvwUa9720pO.gif\n",
      "Downloaded: /home/jecroisp/Thesis/processed_data/TestingData/downLoadedGifs/yVZrYMkdgY5Pi.gif\n",
      "Downloaded: /home/jecroisp/Thesis/processed_data/TestingData/downLoadedGifs/14ghVSBbXb7Gco.gif\n",
      "Downloaded: /home/jecroisp/Thesis/processed_data/TestingData/downLoadedGifs/14ceV8wMLIGO6Q.gif\n",
      "Downloaded: /home/jecroisp/Thesis/processed_data/TestingData/downLoadedGifs/hEwkspP1OllJK.gif\n",
      "Downloaded: /home/jecroisp/Thesis/processed_data/TestingData/downLoadedGifs/Z5eFxoKjf218c.gif\n",
      "Downloaded: /home/jecroisp/Thesis/processed_data/TestingData/downLoadedGifs/HFyBNSSlNwNKE.gif\n",
      "Downloaded: /home/jecroisp/Thesis/processed_data/TestingData/downLoadedGifs/CAxbo8KC2A0y4.gif\n",
      "Downloaded: /home/jecroisp/Thesis/processed_data/TestingData/downLoadedGifs/10uct1aSFT7QiY.gif\n",
      "Downloaded: /home/jecroisp/Thesis/processed_data/TestingData/downLoadedGifs/RUUdVZqwpfTRS.gif\n",
      "Downloaded: /home/jecroisp/Thesis/processed_data/TestingData/downLoadedGifs/nbsIAR9Pc9wMBEshgC.gif\n",
      "Downloaded: /home/jecroisp/Thesis/processed_data/TestingData/downLoadedGifs/XmiTYLQ5qXTqM.gif\n",
      "Downloaded: /home/jecroisp/Thesis/processed_data/TestingData/downLoadedGifs/hcsoflVVr8gYE.gif\n",
      "Downloaded: /home/jecroisp/Thesis/processed_data/TestingData/downLoadedGifs/GCvktC0KFy9l6.gif\n",
      "Downloaded: /home/jecroisp/Thesis/processed_data/TestingData/downLoadedGifs/l2JJKs3I69qfaQleE.gif\n",
      "Downloaded: /home/jecroisp/Thesis/processed_data/TestingData/downLoadedGifs/jeXiz1RAvzX44.gif\n",
      "Downloaded: /home/jecroisp/Thesis/processed_data/TestingData/downLoadedGifs/UjBvt2DJobX7q.gif\n",
      "Downloaded: /home/jecroisp/Thesis/processed_data/TestingData/downLoadedGifs/sR91D133W02D6.gif\n",
      "Downloaded: /home/jecroisp/Thesis/processed_data/TestingData/downLoadedGifs/nC1toglzIfNFC.gif\n",
      "Downloaded: /home/jecroisp/Thesis/processed_data/TestingData/downLoadedGifs/ceK5e0DXc7Zh6.gif\n",
      "Downloaded: /home/jecroisp/Thesis/processed_data/TestingData/downLoadedGifs/iMQ2kjkP8chaj02EjB.gif\n",
      "Downloaded: /home/jecroisp/Thesis/processed_data/TestingData/downLoadedGifs/zVxeZHKKemqWs.gif\n",
      "Downloaded: /home/jecroisp/Thesis/processed_data/TestingData/downLoadedGifs/VH8QBcXLrfz1u.gif\n",
      "Downloaded: /home/jecroisp/Thesis/processed_data/TestingData/downLoadedGifs/gdUVz1Z6jpMk0.gif\n",
      "Downloaded: /home/jecroisp/Thesis/processed_data/TestingData/downLoadedGifs/l0MYKFSWjNzFXL76o.gif\n",
      "Downloaded: /home/jecroisp/Thesis/processed_data/TestingData/downLoadedGifs/CH0fzClj8QCDS.gif\n",
      "Downloaded: /home/jecroisp/Thesis/processed_data/TestingData/downLoadedGifs/FiBzv5FRE85PO.gif\n",
      "Downloaded: /home/jecroisp/Thesis/processed_data/TestingData/downLoadedGifs/qGyNYdgDARies.gif\n",
      "Downloaded: /home/jecroisp/Thesis/processed_data/TestingData/downLoadedGifs/R6gvnAxj2ISzJdbA63.gif\n",
      "Downloaded: /home/jecroisp/Thesis/processed_data/TestingData/downLoadedGifs/13ea4eXuOuQsmY.gif\n",
      "Downloaded: /home/jecroisp/Thesis/processed_data/TestingData/downLoadedGifs/rHR8qP1mC5V3G.gif\n",
      "Downloaded: /home/jecroisp/Thesis/processed_data/TestingData/downLoadedGifs/KJXClfNiq0vCM.gif\n",
      "Downloaded: /home/jecroisp/Thesis/processed_data/TestingData/downLoadedGifs/T08JhumnpKAI8.gif\n",
      "Downloaded: /home/jecroisp/Thesis/processed_data/TestingData/downLoadedGifs/9J8gnvAxmDFbG.gif\n",
      "Downloaded: /home/jecroisp/Thesis/processed_data/TestingData/downLoadedGifs/d2qJhxeaaWXPG.gif\n",
      "Downloaded: /home/jecroisp/Thesis/processed_data/TestingData/downLoadedGifs/iYi1Ni72bS12.gif\n",
      "Downloaded: /home/jecroisp/Thesis/processed_data/TestingData/downLoadedGifs/TUCGmddm9Kbny.gif\n",
      "Downloaded: /home/jecroisp/Thesis/processed_data/TestingData/downLoadedGifs/xsF1FSDbjguis.gif\n",
      "Downloaded: /home/jecroisp/Thesis/processed_data/TestingData/downLoadedGifs/2t9sDPrlvFpdK.gif\n",
      "Downloaded: /home/jecroisp/Thesis/processed_data/TestingData/downLoadedGifs/8ef68WfQPpwVa.gif\n",
      "Downloaded: /home/jecroisp/Thesis/processed_data/TestingData/downLoadedGifs/13aSSyJaI5NkTm.gif\n",
      "Downloaded: /home/jecroisp/Thesis/processed_data/TestingData/downLoadedGifs/phajKPhwNxHr2.gif\n",
      "Downloaded: /home/jecroisp/Thesis/processed_data/TestingData/downLoadedGifs/Us9Ibqg4H0mTC.gif\n",
      "Downloaded: /home/jecroisp/Thesis/processed_data/TestingData/downLoadedGifs/RfEbMBTPQ7MOY.gif\n",
      "Downloaded: /home/jecroisp/Thesis/processed_data/TestingData/downLoadedGifs/Il1dji926Y7qo.gif\n",
      "Downloaded: /home/jecroisp/Thesis/processed_data/TestingData/downLoadedGifs/Yb3d5B1zwuhCo.gif\n",
      "Downloaded: /home/jecroisp/Thesis/processed_data/TestingData/downLoadedGifs/TejmLnMKgnmPInMQjV.gif\n",
      "Downloaded: /home/jecroisp/Thesis/processed_data/TestingData/downLoadedGifs/zhJ55GsXRajxm.gif\n",
      "Downloaded: /home/jecroisp/Thesis/processed_data/TestingData/downLoadedGifs/qr0FOwPgUk3Cw.gif\n",
      "Downloaded: /home/jecroisp/Thesis/processed_data/TestingData/downLoadedGifs/4FrEtm7JKksKc.gif\n",
      "Downloaded: /home/jecroisp/Thesis/processed_data/TestingData/downLoadedGifs/cd87BccyY3Ecg.gif\n",
      "Downloaded: /home/jecroisp/Thesis/processed_data/TestingData/downLoadedGifs/39fj7g99qyD72.gif\n",
      "Downloaded: /home/jecroisp/Thesis/processed_data/TestingData/downLoadedGifs/5ZUpMAtxpo0NO.gif\n",
      "Downloaded: /home/jecroisp/Thesis/processed_data/TestingData/downLoadedGifs/5fOiRnJOUnTMY.gif\n",
      "Downloaded: /home/jecroisp/Thesis/processed_data/TestingData/downLoadedGifs/c8RrC4dCLScNO.gif\n",
      "Downloaded: /home/jecroisp/Thesis/processed_data/TestingData/downLoadedGifs/lKZEeXJGhU1d6.gif\n",
      "Downloaded: /home/jecroisp/Thesis/processed_data/TestingData/downLoadedGifs/qvhtVUPpZQgAU.gif\n",
      "Downloaded: /home/jecroisp/Thesis/processed_data/TestingData/downLoadedGifs/oVL1n7Yxs538c.gif\n",
      "Downloaded: /home/jecroisp/Thesis/processed_data/TestingData/downLoadedGifs/knVLsGuizHcMo.gif\n",
      "Downloaded: /home/jecroisp/Thesis/processed_data/TestingData/downLoadedGifs/vIwN3gm2oGrpm.gif\n",
      "Downloaded: /home/jecroisp/Thesis/processed_data/TestingData/downLoadedGifs/dhCx7EyeGYD7O.gif\n",
      "Downloaded: /home/jecroisp/Thesis/processed_data/TestingData/downLoadedGifs/keaxYUhihiYPS.gif\n",
      "Downloaded: /home/jecroisp/Thesis/processed_data/TestingData/downLoadedGifs/bPdI2MXEbnDUs.gif\n",
      "Downloaded: /home/jecroisp/Thesis/processed_data/TestingData/downLoadedGifs/gbDsm8Hn7aIuc.gif\n",
      "Downloaded: /home/jecroisp/Thesis/processed_data/TestingData/downLoadedGifs/XDGcdXhDrofJe.gif\n",
      "Downloaded: /home/jecroisp/Thesis/processed_data/TestingData/downLoadedGifs/bC54CmvT2XC9i.gif\n",
      "Downloaded: /home/jecroisp/Thesis/processed_data/TestingData/downLoadedGifs/13kZCZHYwlpues.gif\n",
      "Downloaded: /home/jecroisp/Thesis/processed_data/TestingData/downLoadedGifs/IXm7jqCjf1G9y.gif\n",
      "Downloaded: /home/jecroisp/Thesis/processed_data/TestingData/downLoadedGifs/9YtQ1PRAsCpUY.gif\n",
      "Downloaded: /home/jecroisp/Thesis/processed_data/TestingData/downLoadedGifs/p092OM3vVCXII.gif\n",
      "Downloaded: /home/jecroisp/Thesis/processed_data/TestingData/downLoadedGifs/tEsPVINETtZpS.gif\n",
      "Downloaded: /home/jecroisp/Thesis/processed_data/TestingData/downLoadedGifs/c5av6uHZRy0vu.gif\n",
      "Downloaded: /home/jecroisp/Thesis/processed_data/TestingData/downLoadedGifs/12t9qSvUj3cdbO.gif\n",
      "Downloaded: /home/jecroisp/Thesis/processed_data/TestingData/downLoadedGifs/zzoDrOX7SVRE4.gif\n",
      "Downloaded: /home/jecroisp/Thesis/processed_data/TestingData/downLoadedGifs/qyxyGxszt6LXW.gif\n",
      "Downloaded: /home/jecroisp/Thesis/processed_data/TestingData/downLoadedGifs/101DNxoBTatF16.gif\n",
      "Downloaded: /home/jecroisp/Thesis/processed_data/TestingData/downLoadedGifs/3o7rc0qU6m5hneMsuc.gif\n",
      "Downloaded: /home/jecroisp/Thesis/processed_data/TestingData/downLoadedGifs/dFf0MERFSuocE.gif\n",
      "Downloaded: /home/jecroisp/Thesis/processed_data/TestingData/downLoadedGifs/p55iGp1XppSv4WiV2y.gif\n",
      "Downloaded: /home/jecroisp/Thesis/processed_data/TestingData/downLoadedGifs/OgbPFB5AE3jW.gif\n",
      "Downloaded: /home/jecroisp/Thesis/processed_data/TestingData/downLoadedGifs/1427cjQy7kiBS8.gif\n",
      "Downloaded: /home/jecroisp/Thesis/processed_data/TestingData/downLoadedGifs/GGthjnMpLXu4o.gif\n",
      "Downloaded: /home/jecroisp/Thesis/processed_data/TestingData/downLoadedGifs/kNTAHtqCfu6nm.gif\n",
      "Downloaded: /home/jecroisp/Thesis/processed_data/TestingData/downLoadedGifs/OiNW0PypI1RaE.gif\n",
      "Downloaded: /home/jecroisp/Thesis/processed_data/TestingData/downLoadedGifs/9aZ3Snou3bdlu.gif\n",
      "Downloaded: /home/jecroisp/Thesis/processed_data/TestingData/downLoadedGifs/12PIT4DOj6Tgek.gif\n",
      "Downloaded: /home/jecroisp/Thesis/processed_data/TestingData/downLoadedGifs/61nocPZboqCGI.gif\n",
      "Downloaded: /home/jecroisp/Thesis/processed_data/TestingData/downLoadedGifs/yoJC2BlMMydcdBvgze.gif\n",
      "Downloaded: /home/jecroisp/Thesis/processed_data/TestingData/downLoadedGifs/w8t89p4VBJytG.gif\n",
      "Downloaded: /home/jecroisp/Thesis/processed_data/TestingData/downLoadedGifs/7X1DWR8wFWzxS.gif\n",
      "Downloaded: /home/jecroisp/Thesis/processed_data/TestingData/downLoadedGifs/OUoK5YGI8oKmQ.gif\n",
      "Downloaded: /home/jecroisp/Thesis/processed_data/TestingData/downLoadedGifs/AUGqun7QALo0o.gif\n",
      "Downloaded: /home/jecroisp/Thesis/processed_data/TestingData/downLoadedGifs/13WVgB4UR7hK.gif\n",
      "Downloaded: /home/jecroisp/Thesis/processed_data/TestingData/downLoadedGifs/hDFyKdd2XBqU.gif\n",
      "Downloaded: /home/jecroisp/Thesis/processed_data/TestingData/downLoadedGifs/7mFmPxctsL6YU.gif\n",
      "Downloaded: /home/jecroisp/Thesis/processed_data/TestingData/downLoadedGifs/2YQr5RmVZMj6g.gif\n",
      "Downloaded: /home/jecroisp/Thesis/processed_data/TestingData/downLoadedGifs/U3BWiPeOtxT2w.gif\n",
      "Downloaded: /home/jecroisp/Thesis/processed_data/TestingData/downLoadedGifs/ubKUtThRLlly8.gif\n",
      "Downloaded: /home/jecroisp/Thesis/processed_data/TestingData/downLoadedGifs/jN0ygssTH2hoI.gif\n",
      "Downloaded: /home/jecroisp/Thesis/processed_data/TestingData/downLoadedGifs/l3vR94yj2b1nTDw1G.gif\n",
      "Downloaded: /home/jecroisp/Thesis/processed_data/TestingData/downLoadedGifs/mCxZH1Bi9o2aY.gif\n",
      "Downloaded: /home/jecroisp/Thesis/processed_data/TestingData/downLoadedGifs/VgeGEVTdwzZao.gif\n",
      "Downloaded: /home/jecroisp/Thesis/processed_data/TestingData/downLoadedGifs/dDoW9Cl6dImMo.gif\n",
      "Downloaded: /home/jecroisp/Thesis/processed_data/TestingData/downLoadedGifs/10tQozotSMgnja.gif\n",
      "Downloaded: /home/jecroisp/Thesis/processed_data/TestingData/downLoadedGifs/WXHr5GaFi116g.gif\n",
      "Downloaded: /home/jecroisp/Thesis/processed_data/TestingData/downLoadedGifs/OUPyCjSwnMMlW.gif\n",
      "Downloaded: /home/jecroisp/Thesis/processed_data/TestingData/downLoadedGifs/inVTEIKYPeqR2.gif\n",
      "Downloaded: /home/jecroisp/Thesis/processed_data/TestingData/downLoadedGifs/FmTesyMORvD9u.gif\n",
      "Downloaded: /home/jecroisp/Thesis/processed_data/TestingData/downLoadedGifs/4v9ZLihPewmNa.gif\n",
      "Downloaded: /home/jecroisp/Thesis/processed_data/TestingData/downLoadedGifs/icuYWSF0OqvRu.gif\n",
      "Downloaded: /home/jecroisp/Thesis/processed_data/TestingData/downLoadedGifs/W8rUusbnN4FmU.gif\n",
      "Downloaded: /home/jecroisp/Thesis/processed_data/TestingData/downLoadedGifs/5LACPAu24G37i.gif\n",
      "Downloaded: /home/jecroisp/Thesis/processed_data/TestingData/downLoadedGifs/YPEpEDDFs7sEU.gif\n",
      "Downloaded: /home/jecroisp/Thesis/processed_data/TestingData/downLoadedGifs/ebMqYaUqR3hrW.gif\n",
      "Downloaded: /home/jecroisp/Thesis/processed_data/TestingData/downLoadedGifs/oPmxYvyUGO6bK.gif\n",
      "Downloaded: /home/jecroisp/Thesis/processed_data/TestingData/downLoadedGifs/x609PysrX0lCE.gif\n",
      "Downloaded: /home/jecroisp/Thesis/processed_data/TestingData/downLoadedGifs/6LxGaLrEdGNHi.gif\n",
      "Downloaded: /home/jecroisp/Thesis/processed_data/TestingData/downLoadedGifs/10Sjw8diQ5BJrq.gif\n",
      "Downloaded: /home/jecroisp/Thesis/processed_data/TestingData/downLoadedGifs/KZocN3LfuqktW.gif\n",
      "Downloaded: /home/jecroisp/Thesis/processed_data/TestingData/downLoadedGifs/OEl7x4fTPczEk.gif\n",
      "Downloaded: /home/jecroisp/Thesis/processed_data/TestingData/downLoadedGifs/HuRbUuSt2XXEY.gif\n",
      "Downloaded: /home/jecroisp/Thesis/processed_data/TestingData/downLoadedGifs/uI8kvj4paUiLm.gif\n",
      "Downloaded: /home/jecroisp/Thesis/processed_data/TestingData/downLoadedGifs/4UHVCPKYeWHYY.gif\n",
      "Downloaded: /home/jecroisp/Thesis/processed_data/TestingData/downLoadedGifs/YDxzHaDMBsMW4.gif\n",
      "Downloaded: /home/jecroisp/Thesis/processed_data/TestingData/downLoadedGifs/5jD7vcS2tecxO.gif\n",
      "Downloaded: /home/jecroisp/Thesis/processed_data/TestingData/downLoadedGifs/2OgXMTOzqRxZu.gif\n",
      "Downloaded: /home/jecroisp/Thesis/processed_data/TestingData/downLoadedGifs/qmlX8ClsVWwsU.gif\n",
      "Downloaded: /home/jecroisp/Thesis/processed_data/TestingData/downLoadedGifs/WbheD0Y54pBPW.gif\n",
      "Downloaded: /home/jecroisp/Thesis/processed_data/TestingData/downLoadedGifs/VRolEcq3Z4axa.gif\n",
      "Downloaded: /home/jecroisp/Thesis/processed_data/TestingData/downLoadedGifs/Ivmf74DbIBFPa.gif\n",
      "Downloaded: /home/jecroisp/Thesis/processed_data/TestingData/downLoadedGifs/HIrYP4RI9DpLy.gif\n",
      "Downloaded: /home/jecroisp/Thesis/processed_data/TestingData/downLoadedGifs/vMWq5dvuuiQmc.gif\n",
      "Downloaded: /home/jecroisp/Thesis/processed_data/TestingData/downLoadedGifs/JjUMxtqGYXaKc.gif\n",
      "Downloaded: /home/jecroisp/Thesis/processed_data/TestingData/downLoadedGifs/kznal07FJDUsw.gif\n",
      "Downloaded: /home/jecroisp/Thesis/processed_data/TestingData/downLoadedGifs/X753xqJRL15Pa.gif\n",
      "Downloaded: /home/jecroisp/Thesis/processed_data/TestingData/downLoadedGifs/ci0uDcGQtBh0k.gif\n",
      "Downloaded: /home/jecroisp/Thesis/processed_data/TestingData/downLoadedGifs/ajQdLzFfWXEQw.gif\n",
      "Downloaded: /home/jecroisp/Thesis/processed_data/TestingData/downLoadedGifs/GD8ypYfe6WnBu.gif\n",
      "Downloaded: /home/jecroisp/Thesis/processed_data/TestingData/downLoadedGifs/79ZFYdMsStRYI.gif\n",
      "Downloaded: /home/jecroisp/Thesis/processed_data/TestingData/downLoadedGifs/ZPHXO9RcU4Q2k.gif\n",
      "Downloaded: /home/jecroisp/Thesis/processed_data/TestingData/downLoadedGifs/aOIa4DvGN4M5q.gif\n",
      "Downloaded: /home/jecroisp/Thesis/processed_data/TestingData/downLoadedGifs/EUoQnnYBXiR4Q.gif\n",
      "Downloaded: /home/jecroisp/Thesis/processed_data/TestingData/downLoadedGifs/wW0I7ayjRkTdK.gif\n",
      "Downloaded: /home/jecroisp/Thesis/processed_data/TestingData/downLoadedGifs/QynHhYJiwfoJO.gif\n",
      "Downloaded: /home/jecroisp/Thesis/processed_data/TestingData/downLoadedGifs/114YgIm9NL6EDe.gif\n",
      "Downloaded: /home/jecroisp/Thesis/processed_data/TestingData/downLoadedGifs/THzS8cPZPwr5e.gif\n",
      "Downloaded: /home/jecroisp/Thesis/processed_data/TestingData/downLoadedGifs/11YjSCHL4v3tF6.gif\n",
      "Downloaded: /home/jecroisp/Thesis/processed_data/TestingData/downLoadedGifs/1252MBJs73oIdq.gif\n",
      "Downloaded: /home/jecroisp/Thesis/processed_data/TestingData/downLoadedGifs/30e7fUZYWFz1u.gif\n",
      "Downloaded: /home/jecroisp/Thesis/processed_data/TestingData/downLoadedGifs/p71R5kxVjG8ww.gif\n",
      "Downloaded: /home/jecroisp/Thesis/processed_data/TestingData/downLoadedGifs/nnngUm3dnQrrq.gif\n",
      "Downloaded: /home/jecroisp/Thesis/processed_data/TestingData/downLoadedGifs/qHBBYAh7BZVm.gif\n",
      "Downloaded: /home/jecroisp/Thesis/processed_data/TestingData/downLoadedGifs/7MdjxhX0qxpfy.gif\n",
      "Downloaded: /home/jecroisp/Thesis/processed_data/TestingData/downLoadedGifs/12pCd2XbVGbFJe.gif\n",
      "Downloaded: /home/jecroisp/Thesis/processed_data/TestingData/downLoadedGifs/aq6wETurhpbc4.gif\n",
      "Downloaded: /home/jecroisp/Thesis/processed_data/TestingData/downLoadedGifs/nJZV6hKtNeSBO.gif\n",
      "Downloaded: /home/jecroisp/Thesis/processed_data/TestingData/downLoadedGifs/MNgO6pOH5iNEI.gif\n",
      "Downloaded: /home/jecroisp/Thesis/processed_data/TestingData/downLoadedGifs/d2ZaW7LrLwem8W0U.gif\n",
      "Downloaded: /home/jecroisp/Thesis/processed_data/TestingData/downLoadedGifs/Qw4X3Fnt8MzvrCxmBLG.gif\n",
      "Downloaded: /home/jecroisp/Thesis/processed_data/TestingData/downLoadedGifs/2nwTda1ewYssE.gif\n",
      "Downloaded: /home/jecroisp/Thesis/processed_data/TestingData/downLoadedGifs/Sz2wlGvaBBx7y.gif\n",
      "Downloaded: /home/jecroisp/Thesis/processed_data/TestingData/downLoadedGifs/zHfx3GVlBIzEQ.gif\n",
      "Downloaded: /home/jecroisp/Thesis/processed_data/TestingData/downLoadedGifs/100YmlniUkSv84.gif\n",
      "Downloaded: /home/jecroisp/Thesis/processed_data/TestingData/downLoadedGifs/13DNfRT4u3Q6aI.gif\n",
      "Downloaded: /home/jecroisp/Thesis/processed_data/TestingData/downLoadedGifs/FDcj0q2ebEYww.gif\n",
      "Downloaded: /home/jecroisp/Thesis/processed_data/TestingData/downLoadedGifs/125fwzrLF058AM.gif\n",
      "Downloaded: /home/jecroisp/Thesis/processed_data/TestingData/downLoadedGifs/Lx4pmGXrGNGZq.gif\n",
      "Downloaded: /home/jecroisp/Thesis/processed_data/TestingData/downLoadedGifs/hPSMHzgHQeFuE.gif\n",
      "Downloaded: /home/jecroisp/Thesis/processed_data/TestingData/downLoadedGifs/aaoG2VSbUdUe4.gif\n",
      "Downloaded: /home/jecroisp/Thesis/processed_data/TestingData/downLoadedGifs/lwdzpYxsi4iJi.gif\n",
      "Downloaded: /home/jecroisp/Thesis/processed_data/TestingData/downLoadedGifs/zL1dS1DJDvg6Q.gif\n",
      "Downloaded: /home/jecroisp/Thesis/processed_data/TestingData/downLoadedGifs/ayuqM0h0QKXVS.gif\n",
      "Downloaded: /home/jecroisp/Thesis/processed_data/TestingData/downLoadedGifs/l3iFkFhEGAme4.gif\n",
      "Downloaded: /home/jecroisp/Thesis/processed_data/TestingData/downLoadedGifs/105nDZSgnQHeEg.gif\n",
      "Downloaded: /home/jecroisp/Thesis/processed_data/TestingData/downLoadedGifs/142a3ycYK7biCI.gif\n",
      "Downloaded: /home/jecroisp/Thesis/processed_data/TestingData/downLoadedGifs/11J6HQutnctcU8.gif\n",
      "Downloaded: /home/jecroisp/Thesis/processed_data/TestingData/downLoadedGifs/pLnxbpVosgjE4.gif\n",
      "Downloaded: /home/jecroisp/Thesis/processed_data/TestingData/downLoadedGifs/dtBjNKf61Wqqc.gif\n",
      "Downloaded: /home/jecroisp/Thesis/processed_data/TestingData/downLoadedGifs/eRppSyIp9brag.gif\n",
      "Downloaded: /home/jecroisp/Thesis/processed_data/TestingData/downLoadedGifs/ELHalaD1wIaLS.gif\n",
      "Downloaded: /home/jecroisp/Thesis/processed_data/TestingData/downLoadedGifs/xUBEykINuR8w8.gif\n",
      "Downloaded: /home/jecroisp/Thesis/processed_data/TestingData/downLoadedGifs/m2waAXhvLA0KI.gif\n",
      "Downloaded: /home/jecroisp/Thesis/processed_data/TestingData/downLoadedGifs/ghunn7VEJjj32.gif\n",
      "Downloaded: /home/jecroisp/Thesis/processed_data/TestingData/downLoadedGifs/vFa3GwYAAAZyM.gif\n",
      "Downloaded: /home/jecroisp/Thesis/processed_data/TestingData/downLoadedGifs/bQC7ZxmQ3LdLO.gif\n",
      "Downloaded: /home/jecroisp/Thesis/processed_data/TestingData/downLoadedGifs/sVhSmYghQt4A0.gif\n",
      "Downloaded: /home/jecroisp/Thesis/processed_data/TestingData/downLoadedGifs/10J0Gj2jWO9tKg.gif\n",
      "Downloaded: /home/jecroisp/Thesis/processed_data/TestingData/downLoadedGifs/BOgJCZ69lAuuQ.gif\n",
      "Downloaded: /home/jecroisp/Thesis/processed_data/TestingData/downLoadedGifs/3oz8xIQbm340RYxX8c.gif\n",
      "Downloaded: /home/jecroisp/Thesis/processed_data/TestingData/downLoadedGifs/BsZ8JyNQ1Ji9y.gif\n",
      "Downloaded: /home/jecroisp/Thesis/processed_data/TestingData/downLoadedGifs/j5ncTQKEIROne.gif\n",
      "Downloaded: /home/jecroisp/Thesis/processed_data/TestingData/downLoadedGifs/TU4IsbLjx9G2Q.gif\n",
      "Downloaded: /home/jecroisp/Thesis/processed_data/TestingData/downLoadedGifs/RH9UkgS6sKozm.gif\n",
      "Downloaded: /home/jecroisp/Thesis/processed_data/TestingData/downLoadedGifs/xT1R9D5z2Xm1pok6Na.gif\n",
      "Downloaded: /home/jecroisp/Thesis/processed_data/TestingData/downLoadedGifs/xo6QL3gjGMimA.gif\n",
      "Downloaded: /home/jecroisp/Thesis/processed_data/TestingData/downLoadedGifs/aPN2C7ZONEwEe5PNXj.gif\n",
      "Downloaded: /home/jecroisp/Thesis/processed_data/TestingData/downLoadedGifs/Nx2Lx1RmLadtC.gif\n",
      "Downloaded: /home/jecroisp/Thesis/processed_data/TestingData/downLoadedGifs/JUh0yTz4h931K.gif\n",
      "Downloaded: /home/jecroisp/Thesis/processed_data/TestingData/downLoadedGifs/dR4VPbfL9ejKg.gif\n",
      "Downloaded: /home/jecroisp/Thesis/processed_data/TestingData/downLoadedGifs/P9SmzhwWh6NWg.gif\n",
      "Downloaded: /home/jecroisp/Thesis/processed_data/TestingData/downLoadedGifs/dcYAV9k3EZPTG.gif\n",
      "Downloaded: /home/jecroisp/Thesis/processed_data/TestingData/downLoadedGifs/HLsevXffIdQqI.gif\n",
      "Downloaded: /home/jecroisp/Thesis/processed_data/TestingData/downLoadedGifs/IImnQWkEDwYzC.gif\n",
      "Downloaded: /home/jecroisp/Thesis/processed_data/TestingData/downLoadedGifs/1Mng0gXC5Tpcs.gif\n",
      "Downloaded: /home/jecroisp/Thesis/processed_data/TestingData/downLoadedGifs/bo5pJyxUr3R9C.gif\n",
      "Downloaded: /home/jecroisp/Thesis/processed_data/TestingData/downLoadedGifs/kVA5mbyY6Z6AU.gif\n",
      "Downloaded: /home/jecroisp/Thesis/processed_data/TestingData/downLoadedGifs/3o7abBAEIlO4kWucQ8.gif\n",
      "Downloaded: /home/jecroisp/Thesis/processed_data/TestingData/downLoadedGifs/6U6sno5AkUsOQ.gif\n",
      "Downloaded: /home/jecroisp/Thesis/processed_data/TestingData/downLoadedGifs/liUBWvASzqP0k.gif\n",
      "Downloaded: /home/jecroisp/Thesis/processed_data/TestingData/downLoadedGifs/DliyTFVc86qgE.gif\n",
      "Downloaded: /home/jecroisp/Thesis/processed_data/TestingData/downLoadedGifs/d2Z7rMZnwEzolYQ0.gif\n",
      "Downloaded: /home/jecroisp/Thesis/processed_data/TestingData/downLoadedGifs/Jr7YlhsCbwZDG.gif\n",
      "Downloaded: /home/jecroisp/Thesis/processed_data/TestingData/downLoadedGifs/io3Y035fPzJKM.gif\n",
      "Downloaded: /home/jecroisp/Thesis/processed_data/TestingData/downLoadedGifs/gZq7GstcdqVXi.gif\n",
      "Downloaded: /home/jecroisp/Thesis/processed_data/TestingData/downLoadedGifs/12bO6mIZRgRHKU.gif\n",
      "Downloaded: /home/jecroisp/Thesis/processed_data/TestingData/downLoadedGifs/c35RMDO6luMaQ.gif\n",
      "Downloaded: /home/jecroisp/Thesis/processed_data/TestingData/downLoadedGifs/jzW66XbRwIePK.gif\n",
      "Downloaded: /home/jecroisp/Thesis/processed_data/TestingData/downLoadedGifs/3o85xzYIHuDl00se3K.gif\n",
      "Downloaded: /home/jecroisp/Thesis/processed_data/TestingData/downLoadedGifs/vzpy2NjOKdeyk.gif\n",
      "Downloaded: /home/jecroisp/Thesis/processed_data/TestingData/downLoadedGifs/44p9S3IjhXjdS.gif\n",
      "Downloaded: /home/jecroisp/Thesis/processed_data/TestingData/downLoadedGifs/EWdsP9gHR9OFy.gif\n",
      "Downloaded: /home/jecroisp/Thesis/processed_data/TestingData/downLoadedGifs/vhfXOHbsMSY8g.gif\n",
      "Downloaded: /home/jecroisp/Thesis/processed_data/TestingData/downLoadedGifs/hsAJkbDnO8avm.gif\n",
      "Downloaded: /home/jecroisp/Thesis/processed_data/TestingData/downLoadedGifs/z1cfTvIuE3bry.gif\n",
      "Downloaded: /home/jecroisp/Thesis/processed_data/TestingData/downLoadedGifs/gsfQaYI6szUtO.gif\n",
      "Downloaded: /home/jecroisp/Thesis/processed_data/TestingData/downLoadedGifs/Xh1vgIUkJbPKo.gif\n",
      "Downloaded: /home/jecroisp/Thesis/processed_data/TestingData/downLoadedGifs/omexlPoKyRKgM.gif\n",
      "Downloaded: /home/jecroisp/Thesis/processed_data/TestingData/downLoadedGifs/QiLGO93p22Epy.gif\n",
      "Downloaded: /home/jecroisp/Thesis/processed_data/TestingData/downLoadedGifs/231jfAgZ9N8ac.gif\n",
      "Downloaded: /home/jecroisp/Thesis/processed_data/TestingData/downLoadedGifs/26FLgVAMUwiKY99M4.gif\n",
      "Downloaded: /home/jecroisp/Thesis/processed_data/TestingData/downLoadedGifs/BouHPD3zdVEek.gif\n",
      "Downloaded: /home/jecroisp/Thesis/processed_data/TestingData/downLoadedGifs/bxRPxJVOfCHNS.gif\n",
      "Downloaded: /home/jecroisp/Thesis/processed_data/TestingData/downLoadedGifs/RFRFc3yjQGr04.gif\n",
      "Downloaded: /home/jecroisp/Thesis/processed_data/TestingData/downLoadedGifs/Z5KFinrsuLQVW.gif\n",
      "Downloaded: /home/jecroisp/Thesis/processed_data/TestingData/downLoadedGifs/FtBw4gIVV6fTO.gif\n",
      "Downloaded: /home/jecroisp/Thesis/processed_data/TestingData/downLoadedGifs/ZLNJcUcndjB4s.gif\n",
      "Downloaded: /home/jecroisp/Thesis/processed_data/TestingData/downLoadedGifs/G4iTN6BzRaHyU.gif\n",
      "Downloaded: /home/jecroisp/Thesis/processed_data/TestingData/downLoadedGifs/cytMOyTAI5EuDeerqV.gif\n",
      "Downloaded: /home/jecroisp/Thesis/processed_data/TestingData/downLoadedGifs/26tPeuI0VimunEKdO.gif\n",
      "Downloaded: /home/jecroisp/Thesis/processed_data/TestingData/downLoadedGifs/1aM2NVojAU3GE.gif\n",
      "Downloaded: /home/jecroisp/Thesis/processed_data/TestingData/downLoadedGifs/aHl1ghVQG1TdC.gif\n",
      "Downloaded: /home/jecroisp/Thesis/processed_data/TestingData/downLoadedGifs/A4Mw5ePRh25Z8oGpgR.gif\n",
      "Downloaded: /home/jecroisp/Thesis/processed_data/TestingData/downLoadedGifs/qNtZneOGquVxK.gif\n",
      "Downloaded: /home/jecroisp/Thesis/processed_data/TestingData/downLoadedGifs/UNgNO6cLSYjte.gif\n",
      "Downloaded: /home/jecroisp/Thesis/processed_data/TestingData/downLoadedGifs/Ch2CxqLmtKM6mjdguo.gif\n",
      "Downloaded: /home/jecroisp/Thesis/processed_data/TestingData/downLoadedGifs/pVHFCtH0jYGUU.gif\n",
      "Downloaded: /home/jecroisp/Thesis/processed_data/TestingData/downLoadedGifs/giiywitgl7wMgY3GtO.gif\n",
      "Downloaded: /home/jecroisp/Thesis/processed_data/TestingData/downLoadedGifs/yJd73I4hdUIGQ.gif\n",
      "Downloaded: /home/jecroisp/Thesis/processed_data/TestingData/downLoadedGifs/vwTfxvuiHOi7C.gif\n",
      "Downloaded: /home/jecroisp/Thesis/processed_data/TestingData/downLoadedGifs/MWG1gTCynQJA4.gif\n",
      "Downloaded: /home/jecroisp/Thesis/processed_data/TestingData/downLoadedGifs/XCopjiQ1O29sA.gif\n",
      "Downloaded: /home/jecroisp/Thesis/processed_data/TestingData/downLoadedGifs/b6Rgr2ktXhCww.gif\n",
      "Downloaded: /home/jecroisp/Thesis/processed_data/TestingData/downLoadedGifs/OKttTanTR7bws.gif\n",
      "Downloaded: /home/jecroisp/Thesis/processed_data/TestingData/downLoadedGifs/BYYlZ1gVn3iNy.gif\n",
      "Downloaded: /home/jecroisp/Thesis/processed_data/TestingData/downLoadedGifs/TDWwXnAZbp0xW.gif\n",
      "Downloaded: /home/jecroisp/Thesis/processed_data/TestingData/downLoadedGifs/14nf2BIr9HDUgE.gif\n",
      "Downloaded: /home/jecroisp/Thesis/processed_data/TestingData/downLoadedGifs/ce66jG3Gcy1UY.gif\n",
      "Downloaded: /home/jecroisp/Thesis/processed_data/TestingData/downLoadedGifs/b3u8anVaWFQ9G.gif\n",
      "Downloaded: /home/jecroisp/Thesis/processed_data/TestingData/downLoadedGifs/W9MrmldYlFm5G.gif\n",
      "Downloaded: /home/jecroisp/Thesis/processed_data/TestingData/downLoadedGifs/TbZ9SAB5Wzgn6.gif\n",
      "Downloaded: /home/jecroisp/Thesis/processed_data/TestingData/downLoadedGifs/rsZXfWjafmRa0.gif\n",
      "Downloaded: /home/jecroisp/Thesis/processed_data/TestingData/downLoadedGifs/8UG1edVCQECic.gif\n",
      "Downloaded: /home/jecroisp/Thesis/processed_data/TestingData/downLoadedGifs/l3vR5FWuzjnZnfsoE.gif\n",
      "Downloaded: /home/jecroisp/Thesis/processed_data/TestingData/downLoadedGifs/10v3lkyiqrIJ7a.gif\n",
      "Downloaded: /home/jecroisp/Thesis/processed_data/TestingData/downLoadedGifs/pnN02f7FZ9psI.gif\n",
      "Downloaded: /home/jecroisp/Thesis/processed_data/TestingData/downLoadedGifs/zQm0rSOmXcDm0.gif\n",
      "Downloaded: /home/jecroisp/Thesis/processed_data/TestingData/downLoadedGifs/uJESlGbxDPscM.gif\n",
      "Downloaded: /home/jecroisp/Thesis/processed_data/TestingData/downLoadedGifs/uP3gruWhesAKxiA00v.gif\n",
      "Downloaded: /home/jecroisp/Thesis/processed_data/TestingData/downLoadedGifs/a9qNCd2zeCMwM.gif\n",
      "Downloaded: /home/jecroisp/Thesis/processed_data/TestingData/downLoadedGifs/3o6Ztgta1v4i7pOy3u.gif\n",
      "Downloaded: /home/jecroisp/Thesis/processed_data/TestingData/downLoadedGifs/3ornk7nts29Am5LIfm.gif\n",
      "Downloaded: /home/jecroisp/Thesis/processed_data/TestingData/downLoadedGifs/lTneijCUBou4.gif\n",
      "Downloaded: /home/jecroisp/Thesis/processed_data/TestingData/downLoadedGifs/RV012Nn33GmwE.gif\n",
      "Downloaded: /home/jecroisp/Thesis/processed_data/TestingData/downLoadedGifs/1cVsdnAKMmfny.gif\n",
      "Downloaded: /home/jecroisp/Thesis/processed_data/TestingData/downLoadedGifs/SKhNHgpJzthII.gif\n",
      "Downloaded: /home/jecroisp/Thesis/processed_data/TestingData/downLoadedGifs/kCb3Wq8ZOq4WQ.gif\n",
      "Downloaded: /home/jecroisp/Thesis/processed_data/TestingData/downLoadedGifs/wIkSRfA6qYy1oAimB5.gif\n",
      "Downloaded: /home/jecroisp/Thesis/processed_data/TestingData/downLoadedGifs/HqHX4xRIjle48.gif\n",
      "Downloaded: /home/jecroisp/Thesis/processed_data/TestingData/downLoadedGifs/dIM73dIp74msM.gif\n",
      "Downloaded: /home/jecroisp/Thesis/processed_data/TestingData/downLoadedGifs/108UOkkYPawnPa.gif\n",
      "Downloaded: /home/jecroisp/Thesis/processed_data/TestingData/downLoadedGifs/EYQlopLILSA1O.gif\n",
      "Downloaded: /home/jecroisp/Thesis/processed_data/TestingData/downLoadedGifs/13YILELIsmsRnq.gif\n",
      "Downloaded: /home/jecroisp/Thesis/processed_data/TestingData/downLoadedGifs/10qknPq1zzwlLW.gif\n",
      "Downloaded: /home/jecroisp/Thesis/processed_data/TestingData/downLoadedGifs/au879GHBMcvw4.gif\n",
      "Downloaded: /home/jecroisp/Thesis/processed_data/TestingData/downLoadedGifs/12IH6Dbg7xTvPO.gif\n",
      "Downloaded: /home/jecroisp/Thesis/processed_data/TestingData/downLoadedGifs/11RuG8n1SEkLqo.gif\n",
      "Downloaded: /home/jecroisp/Thesis/processed_data/TestingData/downLoadedGifs/6ZHUmnZdVQB9K.gif\n",
      "Downloaded: /home/jecroisp/Thesis/processed_data/TestingData/downLoadedGifs/bhG5drYIb6RI4.gif\n",
      "Downloaded: /home/jecroisp/Thesis/processed_data/TestingData/downLoadedGifs/aFsZYg7iN7Q7C.gif\n",
      "Downloaded: /home/jecroisp/Thesis/processed_data/TestingData/downLoadedGifs/in9BMG2gESo5q.gif\n",
      "Download complete! GIF metadata saved in CSV.\n"
     ]
    }
   ],
   "source": [
    "import os\n",
    "import csv\n",
    "import requests\n",
    "from PIL import Image\n",
    "from io import BytesIO\n",
    "\n",
    "# Giphy API Key (Replace with your own key)\n",
    "GIPHY_API_KEY = \"IKehD6GbzfVJHKFt8DvZlCIRk8gfn5A8\"\n",
    "\n",
    "# Query parameters for movie GIFs\n",
    "SEARCH_TERM = \"movies\"\n",
    "MAX_RESULTS = 1000  # Number of GIFs to fetch per request\n",
    "BATCH_LIMIT = 50  # GIFs per API request\n",
    "GIF_SAVE_PATH = \"/home/jecroisp/Thesis/processed_data/TestingData/downLoadedGifs\"\n",
    "BLIP_CSV_PATH = \"/home/jecroisp/Thesis/processed_data/TestingData/test_gif_metadata.csv\"\n",
    "\n",
    "# Ensure save directory exists\n",
    "os.makedirs(GIF_SAVE_PATH, exist_ok=True)\n",
    "\n",
    "def fetch_gifs_from_giphy(search_term, limit=50, max_results=1000):\n",
    "    \"\"\"Fetch multiple batches of GIFs from Giphy along with captions.\"\"\"\n",
    "    url = f\"https://api.giphy.com/v1/gifs/search\"\n",
    "    gif_data = []\n",
    "    offset = 0\n",
    "\n",
    "    while len(gif_data) < max_results:\n",
    "        params = {\n",
    "            \"api_key\": GIPHY_API_KEY,\n",
    "            \"q\": search_term,\n",
    "            \"limit\": min(limit, max_results - len(gif_data)),\n",
    "            \"offset\": offset,\n",
    "            \"rating\": \"pg\",  # Adjust rating if needed\n",
    "            \"lang\": \"en\"\n",
    "        }\n",
    "        \n",
    "        response = requests.get(url, params=params)\n",
    "        if response.status_code != 200:\n",
    "            print(\"Error fetching data from Giphy\")\n",
    "            break\n",
    "        \n",
    "        data = response.json()\n",
    "        for item in data[\"data\"]:\n",
    "            gif_id = item[\"id\"]\n",
    "            gif_url = item[\"images\"][\"original\"][\"url\"]\n",
    "            caption = item.get(\"title\", \"No Caption\")  # Get title or fallback to \"No Caption\"\n",
    "            gif_data.append((gif_id, gif_url, caption))\n",
    "\n",
    "        if len(data[\"data\"]) == 0:\n",
    "            break  # Stop if no more results\n",
    "        \n",
    "        offset += len(data[\"data\"])\n",
    "\n",
    "    return gif_data\n",
    "\n",
    "def download_gif(url, save_path, gif_id):\n",
    "    \"\"\"Downloads a GIF and saves it with a unique filename.\"\"\"\n",
    "    response = requests.get(url)\n",
    "    if response.status_code == 200:\n",
    "        gif_name = os.path.join(save_path, f\"{gif_id}.gif\")  # Unique filename\n",
    "        \n",
    "        with open(gif_name, \"wb\") as f:\n",
    "            f.write(response.content)\n",
    "        print(f\"Downloaded: {gif_name}\")\n",
    "        return gif_name\n",
    "    else:\n",
    "        print(f\"Failed to download: {url}\")\n",
    "        return None\n",
    "\n",
    "# Fetch GIF data\n",
    "gif_data = fetch_gifs_from_giphy(SEARCH_TERM, BATCH_LIMIT, MAX_RESULTS)\n",
    "\n",
    "# Save GIF metadata to CSV\n",
    "with open(BLIP_CSV_PATH, mode=\"w\", newline=\"\", encoding=\"utf-8\") as file:\n",
    "    writer = csv.writer(file)\n",
    "    writer.writerow([\"GIF_ID\", \"File_Name\", \"Caption\"])  # CSV Headers\n",
    "\n",
    "    for gif_id, gif_url, caption in gif_data:\n",
    "        file_name = download_gif(gif_url, GIF_SAVE_PATH, gif_id)\n",
    "        if file_name:\n",
    "            writer.writerow([gif_id, file_name, caption])  # Store metadata in CSV\n",
    "\n",
    "print(\"Download complete! GIF metadata saved in CSV.\")\n"
   ]
  },
  {
   "cell_type": "markdown",
   "metadata": {},
   "source": [
    "## Preprocess Testing Data Set "
   ]
  },
  {
   "cell_type": "code",
   "execution_count": 16,
   "metadata": {},
   "outputs": [],
   "source": [
    "CLEANED_CSV_FILE_PATH = \"/home/jecroisp/Thesis/processed_data/TestingData/cleaned_test_gif_metadata.csv\""
   ]
  },
  {
   "cell_type": "code",
   "execution_count": null,
   "metadata": {},
   "outputs": [
    {
     "name": "stdout",
     "output_type": "stream",
     "text": [
      "Cleaned metadata saved to: /home/jecroisp/Thesis/processed_data/TestingData/cleaned_test_gif_metadata.csv\n"
     ]
    }
   ],
   "source": [
    "def clean_csv_and_gifs(csv_path, gifs_folder):\n",
    "    \"\"\"Cleans the CSV file by removing duplicate GIF entries and deleting extra GIF files.\"\"\"\n",
    "    \n",
    "    # Load CSV file into a DataFrame\n",
    "    df = pd.read_csv(csv_path)\n",
    "\n",
    "    # Remove duplicate GIF_ID entries (keeping first occurrence)\n",
    "    df_cleaned = df.drop_duplicates(subset=[\"GIF_ID\"], keep=\"first\")\n",
    "\n",
    "    # Get the list of unique GIF filenames\n",
    "    unique_files = set(df_cleaned[\"File_Name\"].tolist())\n",
    "\n",
    "    # Delete extra GIFs not in the cleaned list\n",
    "    for gif_file in os.listdir(gifs_folder):\n",
    "        gif_path = os.path.join(gifs_folder, gif_file)\n",
    "        if gif_path not in unique_files:\n",
    "            os.remove(gif_path)\n",
    "            print(f\"Deleted duplicate GIF: {gif_path}\")\n",
    "\n",
    "    # Save cleaned CSV file\n",
    "    df_cleaned.to_csv(CLEANED_CSV_FILE_PATH, index=False)\n",
    "    print(f\"Cleaned metadata saved to: {CLEANED_CSV_FILE_PATH}\")\n",
    "\n",
    "# Run the cleanup function\n",
    "clean_csv_and_gifs(BLIP_CSV_PATH, GIF_SAVE_PATH)"
   ]
  },
  {
   "cell_type": "markdown",
   "metadata": {},
   "source": [
    "## Label Each Gif"
   ]
  },
  {
   "cell_type": "markdown",
   "metadata": {},
   "source": [
    "### Attempt To use BLIP instead"
   ]
  },
  {
   "cell_type": "code",
   "execution_count": 31,
   "metadata": {},
   "outputs": [
    {
     "data": {
      "application/vnd.jupyter.widget-view+json": {
       "model_id": "99b2df4e92fd48b5ad8299e7e85a667c",
       "version_major": 2,
       "version_minor": 0
      },
      "text/plain": [
       "preprocessor_config.json:   0%|          | 0.00/287 [00:00<?, ?B/s]"
      ]
     },
     "metadata": {},
     "output_type": "display_data"
    },
    {
     "data": {
      "application/vnd.jupyter.widget-view+json": {
       "model_id": "daf0ed6354ca47739f63f123d3b1c39c",
       "version_major": 2,
       "version_minor": 0
      },
      "text/plain": [
       "tokenizer_config.json:   0%|          | 0.00/506 [00:00<?, ?B/s]"
      ]
     },
     "metadata": {},
     "output_type": "display_data"
    },
    {
     "data": {
      "application/vnd.jupyter.widget-view+json": {
       "model_id": "a2e3762a9a2949dbad4284f3ab19ffde",
       "version_major": 2,
       "version_minor": 0
      },
      "text/plain": [
       "vocab.txt:   0%|          | 0.00/232k [00:00<?, ?B/s]"
      ]
     },
     "metadata": {},
     "output_type": "display_data"
    },
    {
     "data": {
      "application/vnd.jupyter.widget-view+json": {
       "model_id": "74b228d6692d4d1aa7eb0e36e71ef6a4",
       "version_major": 2,
       "version_minor": 0
      },
      "text/plain": [
       "tokenizer.json:   0%|          | 0.00/711k [00:00<?, ?B/s]"
      ]
     },
     "metadata": {},
     "output_type": "display_data"
    },
    {
     "data": {
      "application/vnd.jupyter.widget-view+json": {
       "model_id": "53af41a7569a48c9b4eb5b4899e34ef4",
       "version_major": 2,
       "version_minor": 0
      },
      "text/plain": [
       "special_tokens_map.json:   0%|          | 0.00/125 [00:00<?, ?B/s]"
      ]
     },
     "metadata": {},
     "output_type": "display_data"
    },
    {
     "data": {
      "application/vnd.jupyter.widget-view+json": {
       "model_id": "e33e31ab5e694e72a49da17e6f358f88",
       "version_major": 2,
       "version_minor": 0
      },
      "text/plain": [
       "config.json:   0%|          | 0.00/4.56k [00:00<?, ?B/s]"
      ]
     },
     "metadata": {},
     "output_type": "display_data"
    },
    {
     "data": {
      "application/vnd.jupyter.widget-view+json": {
       "model_id": "90fd3858d02b4e03a1ebc04cdc449404",
       "version_major": 2,
       "version_minor": 0
      },
      "text/plain": [
       "pytorch_model.bin:   0%|          | 0.00/990M [00:00<?, ?B/s]"
      ]
     },
     "metadata": {},
     "output_type": "display_data"
    },
    {
     "data": {
      "application/vnd.jupyter.widget-view+json": {
       "model_id": "11d9822c05c343149f6aec62d90e0f23",
       "version_major": 2,
       "version_minor": 0
      },
      "text/plain": [
       "model.safetensors:   0%|          | 0.00/990M [00:00<?, ?B/s]"
      ]
     },
     "metadata": {},
     "output_type": "display_data"
    }
   ],
   "source": [
    "from transformers import BlipProcessor, BlipForConditionalGeneration\n",
    "from PIL import Image\n",
    "\n",
    "# Load BLIP model\n",
    "processor = BlipProcessor.from_pretrained(\"Salesforce/blip-image-captioning-base\")\n",
    "model = BlipForConditionalGeneration.from_pretrained(\"Salesforce/blip-image-captioning-base\")\n",
    "\n",
    "def generate_caption_blip(image_path):\n",
    "    \"\"\"Generates an image caption using BLIP.\"\"\"\n",
    "    try:\n",
    "        image = Image.open(image_path).convert(\"RGB\")  # Convert to RGB\n",
    "        inputs = processor(image, return_tensors=\"pt\")\n",
    "\n",
    "        output = model.generate(**inputs)\n",
    "        caption = processor.decode(output[0], skip_special_tokens=True)\n",
    "        return caption\n",
    "\n",
    "    except Exception as e:\n",
    "        print(f\"Error processing {image_path}: {e}\")\n",
    "        return \"No caption generated\"\n"
   ]
  },
  {
   "cell_type": "code",
   "execution_count": 32,
   "metadata": {},
   "outputs": [
    {
     "name": "stdout",
     "output_type": "stream",
     "text": [
      "BLIP-based captioning completed! Data saved.\n"
     ]
    }
   ],
   "source": [
    "df[\"Enhanced_Caption\"] = df[\"File_Name\"].apply(generate_caption_blip)\n",
    "df.to_csv(\"gif_metadata_blip.csv\", index=False)\n",
    "\n",
    "print(\"BLIP-based captioning completed! Data saved.\")\n"
   ]
  },
  {
   "cell_type": "markdown",
   "metadata": {},
   "source": [
    "### Sentiment Analysis to apply an emotion to gif based on Caption"
   ]
  },
  {
   "cell_type": "code",
   "execution_count": 33,
   "metadata": {},
   "outputs": [
    {
     "name": "stderr",
     "output_type": "stream",
     "text": [
      "[nltk_data] Downloading package vader_lexicon to\n",
      "[nltk_data]     /home/jecroisp/nltk_data...\n"
     ]
    }
   ],
   "source": [
    "import nltk\n",
    "from nltk.sentiment import SentimentIntensityAnalyzer\n",
    "\n",
    "# Download VADER data\n",
    "nltk.download(\"vader_lexicon\")\n",
    "sia = SentimentIntensityAnalyzer()\n",
    "\n",
    "def classify_emotion_vader(caption):\n",
    "    \"\"\"Classifies emotion using VADER sentiment analysis.\"\"\"\n",
    "    scores = sia.polarity_scores(caption)\n",
    "\n",
    "    if scores[\"compound\"] >= 0.5:\n",
    "        return \"Happiness\"  # Strongly positive\n",
    "    elif scores[\"compound\"] > -0.2:\n",
    "        return \"Neutral\"  # Mildly positive or neutral\n",
    "    else:\n",
    "        return \"Sadness\"  # Strongly negative\n"
   ]
  },
  {
   "cell_type": "code",
   "execution_count": 34,
   "metadata": {},
   "outputs": [
    {
     "data": {
      "application/vnd.jupyter.widget-view+json": {
       "model_id": "e5a440a7ec7c41029a8d130df0f9ec28",
       "version_major": 2,
       "version_minor": 0
      },
      "text/plain": [
       "config.json:   0%|          | 0.00/629 [00:00<?, ?B/s]"
      ]
     },
     "metadata": {},
     "output_type": "display_data"
    },
    {
     "data": {
      "application/vnd.jupyter.widget-view+json": {
       "model_id": "d93da17bb7404d2f82b64c3363947e2e",
       "version_major": 2,
       "version_minor": 0
      },
      "text/plain": [
       "model.safetensors:   0%|          | 0.00/268M [00:00<?, ?B/s]"
      ]
     },
     "metadata": {},
     "output_type": "display_data"
    },
    {
     "data": {
      "application/vnd.jupyter.widget-view+json": {
       "model_id": "11b733ecb04b443490a522ae33c0198a",
       "version_major": 2,
       "version_minor": 0
      },
      "text/plain": [
       "tokenizer_config.json:   0%|          | 0.00/48.0 [00:00<?, ?B/s]"
      ]
     },
     "metadata": {},
     "output_type": "display_data"
    },
    {
     "data": {
      "application/vnd.jupyter.widget-view+json": {
       "model_id": "3a3026b54b5e47f5856ef891ba87eab6",
       "version_major": 2,
       "version_minor": 0
      },
      "text/plain": [
       "vocab.txt:   0%|          | 0.00/232k [00:00<?, ?B/s]"
      ]
     },
     "metadata": {},
     "output_type": "display_data"
    },
    {
     "name": "stderr",
     "output_type": "stream",
     "text": [
      "Device set to use cuda:0\n"
     ]
    }
   ],
   "source": [
    "from transformers import pipeline\n",
    "\n",
    "# Load DistilBERT sentiment model\n",
    "sentiment_pipeline = pipeline(\"text-classification\", model=\"distilbert-base-uncased-finetuned-sst-2-english\")\n",
    "\n",
    "def classify_emotion_bert(caption):\n",
    "    \"\"\"Classifies emotion using a DistilBERT sentiment model.\"\"\"\n",
    "    result = sentiment_pipeline(caption)[0]  # Get top classification\n",
    "    label = result[\"label\"]\n",
    "\n",
    "    # Map labels to emotions\n",
    "    if label == \"POSITIVE\":\n",
    "        return \"Happiness\"\n",
    "    elif label == \"NEGATIVE\":\n",
    "        return \"Sadness\"\n",
    "    else:\n",
    "        return \"Neutral\"\n"
   ]
  },
  {
   "cell_type": "code",
   "execution_count": 35,
   "metadata": {},
   "outputs": [
    {
     "name": "stderr",
     "output_type": "stream",
     "text": [
      "You seem to be using the pipelines sequentially on GPU. In order to maximize efficiency please use a dataset\n"
     ]
    },
    {
     "name": "stdout",
     "output_type": "stream",
     "text": [
      "Sentiment classification completed! Data saved to: gif_metadata_sentiment.csv\n"
     ]
    }
   ],
   "source": [
    "# Load the dataset with BLIP captions\n",
    "BLIP_CSV_PATH = \"gif_metadata_blip.csv\"\n",
    "OUTPUT_CSV_FILE = \"gif_metadata_sentiment.csv\"\n",
    "\n",
    "df = pd.read_csv(BLIP_CSV_PATH)\n",
    "\n",
    "# Apply sentiment models\n",
    "df[\"VADER_Emotion\"] = df[\"Enhanced_Caption\"].apply(classify_emotion_vader)\n",
    "df[\"BERT_Emotion\"] = df[\"Enhanced_Caption\"].apply(classify_emotion_bert)\n",
    "\n",
    "# Save updated dataset\n",
    "df.to_csv(OUTPUT_CSV_FILE, index=False)\n",
    "\n",
    "print(f\"Sentiment classification completed! Data saved to: {OUTPUT_CSV_FILE}\")\n"
   ]
  },
  {
   "cell_type": "markdown",
   "metadata": {},
   "source": [
    "### Distilled Bert Gif Model For Alternative Labeling"
   ]
  },
  {
   "cell_type": "code",
   "execution_count": 38,
   "metadata": {},
   "outputs": [
    {
     "data": {
      "application/vnd.jupyter.widget-view+json": {
       "model_id": "ce23887e5e144d90ba09dcfe7ecde874",
       "version_major": 2,
       "version_minor": 0
      },
      "text/plain": [
       "config.json:   0%|          | 0.00/1.75k [00:00<?, ?B/s]"
      ]
     },
     "metadata": {},
     "output_type": "display_data"
    },
    {
     "data": {
      "application/vnd.jupyter.widget-view+json": {
       "model_id": "d038ddb01cb94b7da5993d62c573ea73",
       "version_major": 2,
       "version_minor": 0
      },
      "text/plain": [
       "pytorch_model.bin:   0%|          | 0.00/268M [00:00<?, ?B/s]"
      ]
     },
     "metadata": {},
     "output_type": "display_data"
    },
    {
     "data": {
      "application/vnd.jupyter.widget-view+json": {
       "model_id": "f77763c5eb1a4880b3c920f0656b8c27",
       "version_major": 2,
       "version_minor": 0
      },
      "text/plain": [
       "tokenizer_config.json:   0%|          | 0.00/421 [00:00<?, ?B/s]"
      ]
     },
     "metadata": {},
     "output_type": "display_data"
    },
    {
     "data": {
      "application/vnd.jupyter.widget-view+json": {
       "model_id": "450443aecd3a42519ac1c893d559a162",
       "version_major": 2,
       "version_minor": 0
      },
      "text/plain": [
       "vocab.txt:   0%|          | 0.00/232k [00:00<?, ?B/s]"
      ]
     },
     "metadata": {},
     "output_type": "display_data"
    },
    {
     "data": {
      "application/vnd.jupyter.widget-view+json": {
       "model_id": "640d9941a31e4549b7963616ee0c0686",
       "version_major": 2,
       "version_minor": 0
      },
      "text/plain": [
       "special_tokens_map.json:   0%|          | 0.00/112 [00:00<?, ?B/s]"
      ]
     },
     "metadata": {},
     "output_type": "display_data"
    },
    {
     "name": "stderr",
     "output_type": "stream",
     "text": [
      "Device set to use cuda:0\n"
     ]
    },
    {
     "data": {
      "application/vnd.jupyter.widget-view+json": {
       "model_id": "1e16035fef7749b2b311511579fbe5ed",
       "version_major": 2,
       "version_minor": 0
      },
      "text/plain": [
       "model.safetensors:   0%|          | 0.00/268M [00:00<?, ?B/s]"
      ]
     },
     "metadata": {},
     "output_type": "display_data"
    }
   ],
   "source": [
    "from transformers import pipeline\n",
    "import pandas as pd\n",
    "\n",
    "# Load pre-trained Hugging Face model for GIF emotion classification\n",
    "emotion_pipeline = pipeline(\"text-classification\", model=\"joeddav/distilbert-base-uncased-go-emotions-student\")\n",
    "\n",
    "# Define function to predict emotion for each GIF using the external model\n",
    "def predict_gif_emotion(gif_caption):\n",
    "    \"\"\"Predicts the sentiment label for a GIF using a pre-trained model.\"\"\"\n",
    "    try:\n",
    "        result = emotion_pipeline(gif_caption)[0]  # Get top classification\n",
    "        predicted_label = result[\"label\"]\n",
    "        confidence_score = result[\"score\"]\n",
    "        return predicted_label, confidence_score\n",
    "    except Exception as e:\n",
    "        print(f\"Error processing: {gif_caption} - {e}\")\n",
    "        return \"Unknown\", 0.0\n"
   ]
  },
  {
   "cell_type": "code",
   "execution_count": 39,
   "metadata": {},
   "outputs": [
    {
     "name": "stdout",
     "output_type": "stream",
     "text": [
      "Sentiment labeling completed! Data saved to: gif_sentiment_labels.csv\n"
     ]
    }
   ],
   "source": [
    "# Load the BLIP-enhanced GIF dataset\n",
    "CSV_FILE_PATH = \"gif_metadata_blip.csv\"  # Use latest dataset\n",
    "OUTPUT_CSV_FILE = \"gif_sentiment_labels.csv\"\n",
    "\n",
    "df = pd.read_csv(CSV_FILE_PATH)\n",
    "\n",
    "# Apply sentiment model to each GIF caption\n",
    "df[\"GIF_Emotion\"], df[\"Confidence_Score\"] = zip(*df[\"Enhanced_Caption\"].apply(predict_gif_emotion))\n",
    "\n",
    "# Save new sentiment labels to CSV\n",
    "df.to_csv(OUTPUT_CSV_FILE, index=False)\n",
    "\n",
    "print(f\"Sentiment labeling completed! Data saved to: {OUTPUT_CSV_FILE}\")\n"
   ]
  },
  {
   "cell_type": "code",
   "execution_count": 42,
   "metadata": {},
   "outputs": [],
   "source": [
    "# Define mapping dictionary\n",
    "emotion_mapping = {\n",
    "    \"anger\": \"Anger\",\n",
    "    \"annoyance\": \"Anger\",\n",
    "    \"disapproval\": \"Anger\",\n",
    "    \"disgust\": \"Disgust\",\n",
    "    \"fear\": \"Fear\",\n",
    "    \"nervousness\": \"Fear\",\n",
    "    \"joy\": \"Happiness\",\n",
    "    \"amusement\": \"Happiness\",\n",
    "    \"excitement\": \"Happiness\",\n",
    "    \"admiration\": \"Happiness\",\n",
    "    \"gratitude\": \"Happiness\",\n",
    "    \"love\": \"Happiness\",\n",
    "    \"optimism\": \"Happiness\",\n",
    "    \"pride\": \"Happiness\",\n",
    "    \"relief\": \"Happiness\",\n",
    "    \"neutral\": \"Neutral\",\n",
    "    \"curiosity\": \"Neutral\",\n",
    "    \"realization\": \"Neutral\",\n",
    "    \"approval\": \"Neutral\",\n",
    "    \"sadness\": \"Sadness\",\n",
    "    \"grief\": \"Sadness\",\n",
    "    \"disappointment\": \"Sadness\",\n",
    "    \"remorse\": \"Sadness\",\n",
    "    \"embarrassment\": \"Sadness\"\n",
    "}\n",
    "\n",
    "def map_goemotions_label(goemotions_label):\n",
    "    \"\"\"Maps GoEmotions labels to the six core emotion categories.\"\"\"\n",
    "    return emotion_mapping.get(goemotions_label, \"Neutral\")  # Default to Neutral if not found\n"
   ]
  },
  {
   "cell_type": "code",
   "execution_count": 43,
   "metadata": {},
   "outputs": [
    {
     "name": "stdout",
     "output_type": "stream",
     "text": [
      "Mapped sentiment labels saved to: gif_sentiment_mapped.csv\n"
     ]
    }
   ],
   "source": [
    "\n",
    "\n",
    "# Load the GoEmotions sentiment predictions\n",
    "SENTIMENT_FILE = \"gif_sentiment_labels.csv\"\n",
    "OUTPUT_MAPPED_FILE = \"gif_sentiment_mapped.csv\"\n",
    "\n",
    "df = pd.read_csv(SENTIMENT_FILE)\n",
    "\n",
    "# Apply mapping function to align labels\n",
    "df[\"Mapped_Emotion\"] = df[\"GIF_Emotion\"].apply(map_goemotions_label)\n",
    "\n",
    "# Save the mapped dataset\n",
    "df.to_csv(OUTPUT_MAPPED_FILE, index=False)\n",
    "\n",
    "print(f\"Mapped sentiment labels saved to: {OUTPUT_MAPPED_FILE}\")\n"
   ]
  },
  {
   "cell_type": "markdown",
   "metadata": {},
   "source": [
    "### Human Test"
   ]
  },
  {
   "cell_type": "code",
   "execution_count": 49,
   "metadata": {},
   "outputs": [
    {
     "data": {
      "application/vnd.jupyter.widget-view+json": {
       "model_id": "80595a53d7484950bd27968b4ebadc31",
       "version_major": 2,
       "version_minor": 0
      },
      "text/plain": [
       "Output()"
      ]
     },
     "metadata": {},
     "output_type": "display_data"
    }
   ],
   "source": [
    "import os\n",
    "import ipywidgets as widgets\n",
    "import imageio\n",
    "from IPython.display import Image as IPImage, display, clear_output\n",
    "from PIL import Image as PILImage\n",
    "import pandas as pd\n",
    "\n",
    "# Define directories and output file\n",
    "GIF_FOLDER = \"/home/jecroisp/Thesis/processed_data/TestingData/downLoadedGifs\"  # Path to your GIFs\n",
    "LABELS_FILE = \"manual_labels.csv\"\n",
    "\n",
    "# Emotion labels\n",
    "LABELS = [\"Anger\", \"Disgust\", \"Fear\", \"Happiness\", \"Neutral\", \"Sadness\"]\n",
    "\n",
    "# Load existing labels to avoid duplicates\n",
    "if os.path.exists(LABELS_FILE):\n",
    "    df = pd.read_csv(LABELS_FILE)\n",
    "    labeled_files = set(df[\"File_Name\"].tolist())\n",
    "else:\n",
    "    labeled_files = set()\n",
    "\n",
    "# Get GIFs to label\n",
    "gif_files = [f for f in os.listdir(GIF_FOLDER) if f.endswith(\".gif\") and f not in labeled_files]\n",
    "index = 0  # Track current GIF index\n",
    "\n",
    "def load_gif():\n",
    "    global index, gif_files\n",
    "    if index >= len(gif_files):\n",
    "        with output:\n",
    "            clear_output()\n",
    "            print(\"🎉 All GIFs labeled! 🎉\")\n",
    "        return\n",
    "\n",
    "    gif_path = os.path.join(GIF_FOLDER, gif_files[index])\n",
    "    gif = imageio.mimread(gif_path)\n",
    "    middle_frame = gif[len(gif) // 2]\n",
    "\n",
    "    # Convert to PIL Image\n",
    "    frame_image = PILImage.fromarray(middle_frame)\n",
    "    if frame_image.mode == \"RGBA\":\n",
    "        frame_image = frame_image.convert(\"RGB\")\n",
    "\n",
    "    # Save as JPEG\n",
    "    frame_image.save(\"temp_frame.jpg\", \"JPEG\")\n",
    "\n",
    "    with output:\n",
    "        clear_output()\n",
    "        display(IPImage(filename=\"temp_frame.jpg\"))\n",
    "        display(filename_label)\n",
    "        display(buttons_box)\n",
    "\n",
    "    filename_label.value = f\"Labeling: {gif_files[index]}\"\n",
    "\n",
    "\n",
    "\n",
    "def save_label(label):\n",
    "    \"\"\"Saves the selected label to the CSV and loads the next GIF.\"\"\"\n",
    "    global index\n",
    "\n",
    "    with open(LABELS_FILE, \"a\") as file:\n",
    "        file.write(f\"{gif_files[index]},{label}\\n\")\n",
    "\n",
    "    index += 1\n",
    "    load_gif()\n",
    "\n",
    "# UI Elements\n",
    "filename_label = widgets.Label()\n",
    "output = widgets.Output()\n",
    "buttons = [widgets.Button(description=lbl) for lbl in LABELS]\n",
    "\n",
    "# Attach button click events\n",
    "for btn in buttons:\n",
    "    btn.on_click(lambda btn, lbl=btn.description: save_label(lbl))\n",
    "\n",
    "buttons_box = widgets.HBox(buttons)\n",
    "\n",
    "# Load first GIF\n",
    "load_gif()\n",
    "\n",
    "# Display UI\n",
    "display(output)\n"
   ]
  }
 ],
 "metadata": {
  "kernelspec": {
   "display_name": "base",
   "language": "python",
   "name": "python3"
  },
  "language_info": {
   "codemirror_mode": {
    "name": "ipython",
    "version": 3
   },
   "file_extension": ".py",
   "mimetype": "text/x-python",
   "name": "python",
   "nbconvert_exporter": "python",
   "pygments_lexer": "ipython3",
   "version": "3.12.4"
  }
 },
 "nbformat": 4,
 "nbformat_minor": 2
}
